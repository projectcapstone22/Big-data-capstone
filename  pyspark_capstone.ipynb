{
 "cells": [
  {
   "cell_type": "markdown",
   "id": "6460fbba",
   "metadata": {},
   "source": [
    "## Data describtion\n",
    "- Convert U.S. to US to avoid periods.\n",
    "- Convert Unknown to \"?\"\n",
    "\n",
    "Data Set Information:\n",
    "\n",
    "Extraction was done by Barry Becker from the 1994 Census database. A set of reasonably clean records was extracted using the following conditions: ((AAGE>16) && (AGI>100) && (AFNLWGT>1)&& (HRSWK>0))\n",
    "\n",
    "Prediction task is to determine whether a person makes over 50K a year.\n",
    "\n",
    "- age: continuous.\n",
    "- workclass: Private, Self-emp-not-inc, Self-emp-inc, Federal-gov, Local-gov, State-gov, Without-pay, Never-worked.\n",
    "- fnlwgt(final weight): The number of people the census takers believe that observation represents, continuous.\n",
    "- education: Bachelors, Some-college, 11th, HS-grad, Prof-school, Assoc-acdm, Assoc-voc, 9th, 7th-8th, 12th, Masters, 1st-4th, 10th, Doctorate, 5th-6th, Preschool.\n",
    "- education-num: continuous.\n",
    "- marital-status: Married-civ-spouse, Divorced, Never-married, Separated, Widowed, Married-spouse-absent, Married-AF-spouse.\n",
    "- occupation: Tech-support, Craft-repair, Other-service, Sales, Exec-managerial, Prof-specialty, Handlers-cleaners, Machine-op-inspct, Adm-clerical, Farming-fishing, Transport-moving, Priv-house-serv, Protective-serv, Armed-Forces.\n",
    "- relationship: Wife, Own-child, Husband, Not-in-family, Other-relative, Unmarried.\n",
    "- race: White, Asian-Pac-Islander, Amer-Indian-Eskimo, Other, Black.\n",
    "- sex: Female, Male.\n",
    "- capital-gain: continuous.\n",
    "- capital-loss: continuous.\n",
    "- hours-per-week: continuous.\n",
    "- native-country: United-States, Cambodia, England, Puerto-Rico, Canada, Germany, Outlying-US(Guam-USVI-etc), India, Japan, Greece, South, China, Cuba, Iran, Honduras, Philippines, Italy, Poland, Jamaica, Vietnam, Mexico, Portugal, Ireland, France, Dominican-Republic, Laos, Ecuador, Taiwan, Haiti, Columbia, Hungary, Guatemala, Nicaragua, Scotland, Thailand, Yugoslavia, El-Salvador, Trinadad&Tobago, Peru, Hong, Holand-Netherlands.\n",
    "- >50K, <=50K\n",
    "\n",
    "- references:\n",
    "- https://archive.ics.uci.edu/ml/datasets/adult"
   ]
  },
  {
   "cell_type": "code",
   "execution_count": 1,
   "id": "65373b37",
   "metadata": {},
   "outputs": [
    {
     "data": {
      "text/html": [
       "<style>.container { width:95% !important; }</style>"
      ],
      "text/plain": [
       "<IPython.core.display.HTML object>"
      ]
     },
     "metadata": {},
     "output_type": "display_data"
    }
   ],
   "source": [
    "from IPython.display import display, HTML\n",
    "display(HTML(\"<style>.container { width:95% !important; }</style>\"))"
   ]
  },
  {
   "cell_type": "code",
   "execution_count": 68,
   "id": "4b941f15",
   "metadata": {},
   "outputs": [],
   "source": [
    "from pyspark.sql import SparkSession\n",
    "from pyspark.sql.functions import *\n",
    "#lets import our usual suspects\n",
    "import matplotlib.pyplot as plt\n",
    "import seaborn as sns\n",
    "import pandas as pd\n",
    "import numpy as np\n",
    "\n",
    "#pyspark related imports\n",
    "import pyspark\n",
    "from pyspark.sql.functions import col, isnan, when, count\n",
    "from pyspark.ml.feature import Imputer, VectorAssembler, StringIndexer\n",
    "from pyspark.sql.functions import *\n",
    "from pyspark.sql import functions as f\n",
    "from pyspark.ml.regression import RandomForestRegressor, DecisionTreeRegressor, GBTRegressor, LinearRegression\n",
    "from pyspark.ml.evaluation import RegressionEvaluator\n",
    "\n",
    "from pyspark.ml.classification import DecisionTreeClassifier, RandomForestClassifier, LogisticRegression, GBTClassifier\n",
    "from pyspark.ml.evaluation import MulticlassClassificationEvaluator\n",
    "\n",
    "\n",
    "from pyspark.ml.tuning import CrossValidator, ParamGridBuilder, CrossValidatorModel\n",
    "from pyspark.ml import Pipeline"
   ]
  },
  {
   "cell_type": "code",
   "execution_count": 3,
   "id": "d35e07fe",
   "metadata": {},
   "outputs": [],
   "source": [
    "spark = pyspark.sql.SparkSession.builder.config(\"spark.executor.memory\", \"8g\").config(\"spark.driver.memory\", \"8g\").getOrCreate()"
   ]
  },
  {
   "cell_type": "markdown",
   "id": "128865f0",
   "metadata": {},
   "source": [
    "## Pandas"
   ]
  },
  {
   "cell_type": "code",
   "execution_count": 4,
   "id": "b3b407c2",
   "metadata": {},
   "outputs": [],
   "source": [
    "# dfp=pd.read_csv('adult1m.csv', header=None)\n",
    "\n",
    "# columns_names=['age','workclass','fnlwgt','education','education_num','marital_status','occupation','relationship','race','gender','capital_gain','capital_loss','hours_per_week','native_country','salary']\n",
    "# i=0\n",
    "# for clm in columns_names:\n",
    "#     dfp.rename(columns = {i:'{}'.format(clm)}, inplace = True)\n",
    "#     i=i+1\n",
    "# print(dfp.shape)\n",
    "# dfp"
   ]
  },
  {
   "cell_type": "code",
   "execution_count": 5,
   "id": "a9634866",
   "metadata": {},
   "outputs": [],
   "source": [
    "# # dfp[dfp.eq(\"?\").any(1)]\n",
    "# dfp=dfp.replace('?', np.NaN)\n",
    "# dfp.isnull().sum()"
   ]
  },
  {
   "cell_type": "markdown",
   "id": "57cfb6fa",
   "metadata": {},
   "source": [
    "## Preprocessing\n",
    "\n",
    "1. Replacing the '?' in all the columns with Not-specified\n",
    "2. Make the values for education consistant\n",
    "3. Change the values for salary to be 0 if <=50k, and 1 if >50k\n",
    "4. Summing the values for the fnlwgt column, and getting the percentage of fnlwgt\n",
    "5. The diffrence of  capital gain and loss\n",
    "6. Finding if someone is workholic which is 1, or no which is 0  "
   ]
  },
  {
   "cell_type": "markdown",
   "id": "5b26907d",
   "metadata": {},
   "source": [
    "## PySpark"
   ]
  },
  {
   "cell_type": "code",
   "execution_count": 4,
   "id": "24e35c5f",
   "metadata": {},
   "outputs": [],
   "source": [
    "# Load the dataset.\n",
    "dfs = spark.read.csv('adult1m.csv',inferSchema=True,header=False)"
   ]
  },
  {
   "cell_type": "code",
   "execution_count": 5,
   "id": "3aeb7261",
   "metadata": {},
   "outputs": [],
   "source": [
    "# Rename columns\n",
    "columns_names=['age','workclass','fnlwgt','education','education_num','marital_status','occupation','relationship','race','gender','capital_gain','capital_loss','hours_per_week','native_country','salary']\n",
    "i=0\n",
    "for colm in columns_names:\n",
    "    dfs=dfs.withColumnRenamed('_c{}'.format(i),colm)\n",
    "    i=i+1"
   ]
  },
  {
   "cell_type": "code",
   "execution_count": 6,
   "id": "7728c8ff",
   "metadata": {},
   "outputs": [
    {
     "name": "stdout",
     "output_type": "stream",
     "text": [
      "1000000 15\n",
      "root\n",
      " |-- age: integer (nullable = true)\n",
      " |-- workclass: string (nullable = true)\n",
      " |-- fnlwgt: integer (nullable = true)\n",
      " |-- education: string (nullable = true)\n",
      " |-- education_num: integer (nullable = true)\n",
      " |-- marital_status: string (nullable = true)\n",
      " |-- occupation: string (nullable = true)\n",
      " |-- relationship: string (nullable = true)\n",
      " |-- race: string (nullable = true)\n",
      " |-- gender: string (nullable = true)\n",
      " |-- capital_gain: integer (nullable = true)\n",
      " |-- capital_loss: integer (nullable = true)\n",
      " |-- hours_per_week: integer (nullable = true)\n",
      " |-- native_country: string (nullable = true)\n",
      " |-- salary: string (nullable = true)\n",
      "\n"
     ]
    }
   ],
   "source": [
    "# The data Shape\n",
    "print(dfs.count(), len(dfs.columns))\n",
    "dfs.printSchema()"
   ]
  },
  {
   "cell_type": "code",
   "execution_count": 7,
   "id": "cb423e72",
   "metadata": {},
   "outputs": [
    {
     "name": "stdout",
     "output_type": "stream",
     "text": [
      "+---+----------------+------+---------+-------------+------------------+-----------------+-------------+-----+------+------------+------------+--------------+--------------+------+\n",
      "|age|       workclass|fnlwgt|education|education_num|    marital_status|       occupation| relationship| race|gender|capital_gain|capital_loss|hours_per_week|native_country|salary|\n",
      "+---+----------------+------+---------+-------------+------------------+-----------------+-------------+-----+------+------------+------------+--------------+--------------+------+\n",
      "| 39|       State-gov| 77516|Bachelors|           13|     Never-married|     Adm-clerical|Not-in-family|White|  Male|        2174|           0|            40| United-States| <=50K|\n",
      "| 50|Self-emp-not-inc| 83311|Bachelors|           13|Married-civ-spouse|  Exec-managerial|      Husband|White|  Male|           0|           0|            13| United-States| <=50K|\n",
      "| 38|         Private|215646|  HS-grad|            9|          Divorced|Handlers-cleaners|Not-in-family|White|  Male|           0|           0|            40| United-States| <=50K|\n",
      "| 53|         Private|234721|     11th|            7|Married-civ-spouse|Handlers-cleaners|      Husband|Black|  Male|           0|           0|            40| United-States| <=50K|\n",
      "| 28|         Private|338409|Bachelors|           13|Married-civ-spouse|   Prof-specialty|         Wife|Black|Female|           0|           0|            40|          Cuba| <=50K|\n",
      "+---+----------------+------+---------+-------------+------------------+-----------------+-------------+-----+------+------------+------------+--------------+--------------+------+\n",
      "only showing top 5 rows\n",
      "\n"
     ]
    }
   ],
   "source": [
    "dfs.show(5)"
   ]
  },
  {
   "cell_type": "code",
   "execution_count": 8,
   "id": "5fd7fab7",
   "metadata": {},
   "outputs": [
    {
     "name": "stderr",
     "output_type": "stream",
     "text": [
      "C:\\Users\\rooob\\anaconda3\\lib\\site-packages\\pyspark\\sql\\dataframe.py:229: FutureWarning: Deprecated in 2.0, use createOrReplaceTempView instead.\n",
      "  warnings.warn(\"Deprecated in 2.0, use createOrReplaceTempView instead.\", FutureWarning)\n"
     ]
    }
   ],
   "source": [
    "# To EDA in SQL\n",
    "dfs.registerTempTable('dfs')"
   ]
  },
  {
   "cell_type": "code",
   "execution_count": 9,
   "id": "3010033f",
   "metadata": {},
   "outputs": [
    {
     "name": "stdout",
     "output_type": "stream",
     "text": [
      "+---+----------+\n",
      "|age|count(age)|\n",
      "+---+----------+\n",
      "| 37|     14347|\n",
      "| 35|     14257|\n",
      "| 31|     14250|\n",
      "| 30|     14241|\n",
      "| 24|     14224|\n",
      "| 29|     14215|\n",
      "| 28|     14205|\n",
      "| 25|     14188|\n",
      "| 36|     14182|\n",
      "| 41|     14172|\n",
      "| 44|     14145|\n",
      "| 45|     14103|\n",
      "| 39|     14091|\n",
      "| 43|     14080|\n",
      "| 34|     14069|\n",
      "| 22|     14052|\n",
      "| 33|     14045|\n",
      "| 20|     14042|\n",
      "| 23|     14032|\n",
      "| 38|     14031|\n",
      "| 47|     14020|\n",
      "| 26|     14018|\n",
      "| 42|     13990|\n",
      "| 32|     13971|\n",
      "| 40|     13940|\n",
      "| 53|     13917|\n",
      "| 48|     13888|\n",
      "| 27|     13883|\n",
      "| 18|     13854|\n",
      "| 21|     13848|\n",
      "| 46|     13802|\n",
      "| 49|     13793|\n",
      "| 50|     13789|\n",
      "| 51|     13782|\n",
      "| 17|     13758|\n",
      "| 19|     13756|\n",
      "| 58|     13725|\n",
      "| 57|     13719|\n",
      "| 55|     13703|\n",
      "| 54|     13671|\n",
      "| 52|     13636|\n",
      "| 66|     13619|\n",
      "| 56|     13566|\n",
      "| 65|     13564|\n",
      "| 59|     13518|\n",
      "| 70|     13511|\n",
      "| 64|     13490|\n",
      "| 67|     13460|\n",
      "| 63|     13438|\n",
      "| 78|     13411|\n",
      "+---+----------+\n",
      "only showing top 50 rows\n",
      "\n",
      "+----------------+----------------+\n",
      "|       workclass|count(workclass)|\n",
      "+----------------+----------------+\n",
      "|         Private|          130005|\n",
      "|Self-emp-not-inc|          110521|\n",
      "|               ?|          109731|\n",
      "|       Local-gov|          109507|\n",
      "|       State-gov|          108856|\n",
      "|     Federal-gov|          108441|\n",
      "|    Self-emp-inc|          108217|\n",
      "|     Without-pay|          107699|\n",
      "|    Never-worked|          107023|\n",
      "+----------------+----------------+\n",
      "\n",
      "+------+-------------+\n",
      "|fnlwgt|count(fnlwgt)|\n",
      "+------+-------------+\n",
      "|125461|           76|\n",
      "| 63814|           75|\n",
      "|108435|           73|\n",
      "|174788|           72|\n",
      "|159549|           72|\n",
      "| 80574|           71|\n",
      "|295282|           71|\n",
      "|306467|           71|\n",
      "|194682|           70|\n",
      "|285263|           70|\n",
      "|112929|           70|\n",
      "| 29174|           70|\n",
      "|604506|           70|\n",
      "|168906|           70|\n",
      "|291192|           69|\n",
      "|153471|           69|\n",
      "|162228|           69|\n",
      "|112383|           69|\n",
      "|182687|           69|\n",
      "| 30219|           69|\n",
      "|185407|           69|\n",
      "|314182|           69|\n",
      "|168221|           69|\n",
      "|192965|           69|\n",
      "| 81548|           68|\n",
      "|109413|           68|\n",
      "|129912|           68|\n",
      "| 44363|           68|\n",
      "| 37482|           68|\n",
      "|168981|           68|\n",
      "|171242|           68|\n",
      "|193882|           68|\n",
      "| 53260|           68|\n",
      "|101020|           68|\n",
      "|317360|           68|\n",
      "|193920|           68|\n",
      "|205504|           68|\n",
      "|262684|           68|\n",
      "|138514|           68|\n",
      "|175674|           68|\n",
      "|171615|           67|\n",
      "|148429|           67|\n",
      "|219262|           67|\n",
      "|119891|           67|\n",
      "|165694|           67|\n",
      "|150084|           67|\n",
      "|171419|           67|\n",
      "|101017|           67|\n",
      "| 34998|           67|\n",
      "|225780|           67|\n",
      "+------+-------------+\n",
      "only showing top 50 rows\n",
      "\n",
      "+------------+----------------+\n",
      "|   education|count(education)|\n",
      "+------------+----------------+\n",
      "|     HS-grad|           71205|\n",
      "|Some-college|           67606|\n",
      "|   Bachelors|           65953|\n",
      "|        11th|           61898|\n",
      "|   Assoc-voc|           61762|\n",
      "|     Masters|           61648|\n",
      "|  Assoc-acdm|           61486|\n",
      "|        10th|           61443|\n",
      "|     7th-8th|           61218|\n",
      "|   Doctorate|           61039|\n",
      "|     5th-6th|           60959|\n",
      "|        12th|           60908|\n",
      "|         9th|           60879|\n",
      "|     1st-4th|           60767|\n",
      "| Prof-school|           60711|\n",
      "|   Preschool|           60518|\n",
      "+------------+----------------+\n",
      "\n",
      "+-------------+--------------------+\n",
      "|education_num|count(education_num)|\n",
      "+-------------+--------------------+\n",
      "|            9|               70891|\n",
      "|           10|               67427|\n",
      "|           13|               65664|\n",
      "|           14|               62508|\n",
      "|           11|               61947|\n",
      "|           12|               61728|\n",
      "|            7|               61579|\n",
      "|            6|               61502|\n",
      "|           15|               61366|\n",
      "|            5|               61240|\n",
      "|            8|               61135|\n",
      "|            4|               61082|\n",
      "|            3|               60953|\n",
      "|           16|               60951|\n",
      "|            2|               60079|\n",
      "|            1|               59948|\n",
      "+-------------+--------------------+\n",
      "\n",
      "+--------------------+---------------------+\n",
      "|      marital_status|count(marital_status)|\n",
      "+--------------------+---------------------+\n",
      "|  Married-civ-spouse|               153361|\n",
      "|       Never-married|               147892|\n",
      "|            Divorced|               143001|\n",
      "|             Widowed|               139482|\n",
      "|           Separated|               139429|\n",
      "|   Married-AF-spouse|               138486|\n",
      "|Married-spouse-ab...|               138349|\n",
      "+--------------------+---------------------+\n",
      "\n",
      "+-----------------+-----------------+\n",
      "|       occupation|count(occupation)|\n",
      "+-----------------+-----------------+\n",
      "|     Craft-repair|            68950|\n",
      "|  Exec-managerial|            68780|\n",
      "|   Prof-specialty|            68411|\n",
      "|    Other-service|            68233|\n",
      "|            Sales|            68173|\n",
      "|     Adm-clerical|            67960|\n",
      "|Machine-op-inspct|            66402|\n",
      "|                ?|            66254|\n",
      "|Handlers-cleaners|            66120|\n",
      "| Transport-moving|            66032|\n",
      "|     Tech-support|            65487|\n",
      "|  Farming-fishing|            65323|\n",
      "|  Protective-serv|            64940|\n",
      "|  Priv-house-serv|            64523|\n",
      "|     Armed-Forces|            64412|\n",
      "+-----------------+-----------------+\n",
      "\n",
      "+--------------+-------------------+\n",
      "|  relationship|count(relationship)|\n",
      "+--------------+-------------------+\n",
      "|       Husband|             173999|\n",
      "| Not-in-family|             170334|\n",
      "|     Own-child|             166055|\n",
      "|     Unmarried|             164685|\n",
      "|          Wife|             162599|\n",
      "|Other-relative|             162328|\n",
      "+--------------+-------------------+\n",
      "\n",
      "+------------------+-----------+\n",
      "|              race|count(race)|\n",
      "+------------------+-----------+\n",
      "|             White|     221239|\n",
      "|             Black|     196853|\n",
      "|Asian-Pac-Islander|     194364|\n",
      "|Amer-Indian-Eskimo|     194177|\n",
      "|             Other|     193367|\n",
      "+------------------+-----------+\n",
      "\n",
      "+------+-------------+\n",
      "|gender|count(gender)|\n",
      "+------+-------------+\n",
      "|  Male|       505923|\n",
      "|Female|       494077|\n",
      "+------+-------------+\n",
      "\n",
      "+------------+-------------------+\n",
      "|capital_gain|count(capital_gain)|\n",
      "+------------+-------------------+\n",
      "|           0|              38028|\n",
      "|       15024|               8517|\n",
      "|        7298|               8436|\n",
      "|        3103|               8369|\n",
      "|        2174|               8331|\n",
      "|        7688|               8328|\n",
      "|        3411|               8325|\n",
      "|        2062|               8311|\n",
      "|        8614|               8299|\n",
      "|        3137|               8299|\n",
      "|        3325|               8294|\n",
      "|        7896|               8292|\n",
      "|        7443|               8285|\n",
      "|        2290|               8282|\n",
      "|        2036|               8281|\n",
      "|        5556|               8280|\n",
      "|       99999|               8273|\n",
      "|       15020|               8265|\n",
      "|        2202|               8262|\n",
      "|        2829|               8260|\n",
      "|        4101|               8259|\n",
      "|        6723|               8250|\n",
      "|        1506|               8248|\n",
      "|        4386|               8244|\n",
      "|        1455|               8235|\n",
      "|        2228|               8233|\n",
      "|        4416|               8225|\n",
      "|        2387|               8221|\n",
      "|        7978|               8221|\n",
      "|       22040|               8218|\n",
      "|       27828|               8217|\n",
      "|       15831|               8216|\n",
      "|       13550|               8212|\n",
      "|        5178|               8212|\n",
      "|        1055|               8208|\n",
      "|        3471|               8203|\n",
      "|        5721|               8202|\n",
      "|        2580|               8202|\n",
      "|        2354|               8202|\n",
      "|        2961|               8195|\n",
      "|        2977|               8189|\n",
      "|        6514|               8187|\n",
      "|        5455|               8185|\n",
      "|        3464|               8182|\n",
      "|       14084|               8177|\n",
      "|        5013|               8177|\n",
      "|        3887|               8176|\n",
      "|       11678|               8172|\n",
      "|        2050|               8168|\n",
      "|        6097|               8166|\n",
      "+------------+-------------------+\n",
      "only showing top 50 rows\n",
      "\n",
      "+------------+-------------------+\n",
      "|capital_loss|count(capital_loss)|\n",
      "+------------+-------------------+\n",
      "|           0|              41687|\n",
      "|        1887|              10794|\n",
      "|        2339|              10773|\n",
      "|        2824|              10746|\n",
      "|        1602|              10744|\n",
      "|        2231|              10738|\n",
      "|         880|              10731|\n",
      "|        1902|              10707|\n",
      "|        1648|              10698|\n",
      "|        1672|              10696|\n",
      "|        1485|              10695|\n",
      "|        1848|              10687|\n",
      "|        1825|              10684|\n",
      "|        2415|              10682|\n",
      "|        1977|              10674|\n",
      "|        1741|              10663|\n",
      "|        1726|              10660|\n",
      "|        2002|              10635|\n",
      "|        1974|              10629|\n",
      "|        2001|              10622|\n",
      "|         323|              10605|\n",
      "|        1340|              10605|\n",
      "|        4356|              10603|\n",
      "|        1755|              10603|\n",
      "|        1617|              10602|\n",
      "|        2754|              10595|\n",
      "|        1668|              10591|\n",
      "|        2205|              10590|\n",
      "|        1876|              10590|\n",
      "|        2042|              10590|\n",
      "|        2444|              10583|\n",
      "|        2149|              10582|\n",
      "|        1138|              10576|\n",
      "|        1092|              10576|\n",
      "|        2267|              10572|\n",
      "|        1816|              10568|\n",
      "|         653|              10568|\n",
      "|         155|              10566|\n",
      "|        1651|              10564|\n",
      "|        1564|              10562|\n",
      "|        2282|              10557|\n",
      "|        2238|              10557|\n",
      "|        1628|              10552|\n",
      "|        2467|              10549|\n",
      "|        2547|              10542|\n",
      "|        2258|              10537|\n",
      "|        2559|              10532|\n",
      "|        2080|              10521|\n",
      "|        1258|              10518|\n",
      "|        1721|              10517|\n",
      "+------------+-------------------+\n",
      "only showing top 50 rows\n",
      "\n"
     ]
    },
    {
     "name": "stdout",
     "output_type": "stream",
     "text": [
      "+--------------+---------------------+\n",
      "|hours_per_week|count(hours_per_week)|\n",
      "+--------------+---------------------+\n",
      "|            40|                25612|\n",
      "|            50|                13029|\n",
      "|            45|                12327|\n",
      "|            60|                11804|\n",
      "|            20|                11540|\n",
      "|            35|                11485|\n",
      "|            30|                11470|\n",
      "|            25|                10936|\n",
      "|            48|                10894|\n",
      "|            15|                10841|\n",
      "|            55|                10785|\n",
      "|            38|                10709|\n",
      "|            32|                10620|\n",
      "|            36|                10617|\n",
      "|            70|                10593|\n",
      "|             8|                10583|\n",
      "|            44|                10581|\n",
      "|            16|                10550|\n",
      "|            56|                10541|\n",
      "|             2|                10499|\n",
      "|            10|                10498|\n",
      "|            90|                10495|\n",
      "|            42|                10480|\n",
      "|            52|                10475|\n",
      "|            24|                10467|\n",
      "|            65|                10465|\n",
      "|            99|                10464|\n",
      "|            88|                10452|\n",
      "|            54|                10450|\n",
      "|            28|                10450|\n",
      "|            37|                10448|\n",
      "|            85|                10444|\n",
      "|            11|                10440|\n",
      "|            94|                10436|\n",
      "|            92|                10432|\n",
      "|            46|                10431|\n",
      "|            66|                10409|\n",
      "|            96|                10409|\n",
      "|            76|                10400|\n",
      "|            74|                10393|\n",
      "|            27|                10393|\n",
      "|             5|                10387|\n",
      "|            33|                10379|\n",
      "|            58|                10374|\n",
      "|             1|                10369|\n",
      "|             4|                10369|\n",
      "|            22|                10367|\n",
      "|            53|                10363|\n",
      "|            49|                10359|\n",
      "|             6|                10353|\n",
      "+--------------+---------------------+\n",
      "only showing top 50 rows\n",
      "\n",
      "+--------------------+---------------------+\n",
      "|      native_country|count(native_country)|\n",
      "+--------------------+---------------------+\n",
      "|       United-States|                51942|\n",
      "|              Mexico|                23801|\n",
      "|                   ?|                23591|\n",
      "|         El-Salvador|                23436|\n",
      "|  Dominican-Republic|                23397|\n",
      "|              Poland|                23381|\n",
      "|             Germany|                23322|\n",
      "|               China|                23312|\n",
      "|             Hungary|                23282|\n",
      "|Outlying-US(Guam-...|                23273|\n",
      "|                Peru|                23227|\n",
      "|         Philippines|                23220|\n",
      "|            Columbia|                23218|\n",
      "|               Italy|                23205|\n",
      "|               India|                23193|\n",
      "|                Cuba|                23186|\n",
      "|           Guatemala|                23186|\n",
      "|     Trinadad&Tobago|                23140|\n",
      "|               Japan|                23136|\n",
      "|              Taiwan|                23134|\n",
      "|               South|                23128|\n",
      "|           Nicaragua|                23121|\n",
      "|            Cambodia|                23117|\n",
      "|             England|                23114|\n",
      "|            Honduras|                23075|\n",
      "|              France|                23060|\n",
      "|             Vietnam|                23057|\n",
      "|            Thailand|                23046|\n",
      "|             Ecuador|                22983|\n",
      "|               Haiti|                22979|\n",
      "|          Yugoslavia|                22972|\n",
      "|                Iran|                22964|\n",
      "|             Ireland|                22943|\n",
      "|             Jamaica|                22922|\n",
      "|              Greece|                22908|\n",
      "|  Holand-Netherlands|                22905|\n",
      "|              Canada|                22905|\n",
      "|            Scotland|                22904|\n",
      "|         Puerto-Rico|                22900|\n",
      "|                Hong|                22882|\n",
      "|                Laos|                22788|\n",
      "|            Portugal|                22745|\n",
      "+--------------------+---------------------+\n",
      "\n",
      "+------+-------------+\n",
      "|salary|count(salary)|\n",
      "+------+-------------+\n",
      "| <=50K|       508522|\n",
      "|  >50K|       491478|\n",
      "+------+-------------+\n",
      "\n"
     ]
    }
   ],
   "source": [
    "# Value counts each column\n",
    "for i in dfs.columns:\n",
    "    dfs_result = spark.sql('SELECT `{}`, count(`{}`) FROM dfs group by 1 order by 2 desc'.format(i,i)) #first we select the subset of data\n",
    "    dfs_result.show(50)\n",
    "# No weird values\n",
    "# ? is the NaN values"
   ]
  },
  {
   "cell_type": "code",
   "execution_count": 10,
   "id": "36e13d98",
   "metadata": {},
   "outputs": [
    {
     "name": "stdout",
     "output_type": "stream",
     "text": [
      "+---+---------+------+---------+-------------+--------------+----------+------------+----+------+------------+------------+--------------+--------------+------+\n",
      "|age|workclass|fnlwgt|education|education_num|marital_status|occupation|relationship|race|gender|capital_gain|capital_loss|hours_per_week|native_country|salary|\n",
      "+---+---------+------+---------+-------------+--------------+----------+------------+----+------+------------+------------+--------------+--------------+------+\n",
      "|  0|        0|     0|        0|            0|             0|         0|           0|   0|     0|           0|           0|             0|             0|     0|\n",
      "+---+---------+------+---------+-------------+--------------+----------+------------+----+------+------------+------------+--------------+--------------+------+\n",
      "\n"
     ]
    }
   ],
   "source": [
    "dfs.select([count(when(isnan(c) | col(c).isNull(), c)).alias(c) for c in dfs.columns]).show()"
   ]
  },
  {
   "cell_type": "markdown",
   "id": "2681ff8a",
   "metadata": {},
   "source": [
    "### Replaceing ? for the workclass with Not-specified"
   ]
  },
  {
   "cell_type": "code",
   "execution_count": 11,
   "id": "bb4c31f8",
   "metadata": {},
   "outputs": [
    {
     "data": {
      "text/plain": [
       "[Row(workclass='Self-emp-not-inc'),\n",
       " Row(workclass='Local-gov'),\n",
       " Row(workclass='State-gov'),\n",
       " Row(workclass='Private'),\n",
       " Row(workclass='Without-pay'),\n",
       " Row(workclass='Federal-gov'),\n",
       " Row(workclass='Never-worked'),\n",
       " Row(workclass='?'),\n",
       " Row(workclass='Self-emp-inc')]"
      ]
     },
     "execution_count": 11,
     "metadata": {},
     "output_type": "execute_result"
    }
   ],
   "source": [
    "dfs.select('workclass').distinct().collect()"
   ]
  },
  {
   "cell_type": "code",
   "execution_count": 12,
   "id": "5e85e226",
   "metadata": {},
   "outputs": [
    {
     "data": {
      "text/plain": [
       "[Row(workclass='Self-emp-not-inc'),\n",
       " Row(workclass='Local-gov'),\n",
       " Row(workclass='State-gov'),\n",
       " Row(workclass='Not-specified'),\n",
       " Row(workclass='Private'),\n",
       " Row(workclass='Without-pay'),\n",
       " Row(workclass='Federal-gov'),\n",
       " Row(workclass='Never-worked'),\n",
       " Row(workclass='Self-emp-inc')]"
      ]
     },
     "execution_count": 12,
     "metadata": {},
     "output_type": "execute_result"
    }
   ],
   "source": [
    "dfs=dfs.withColumn('workclass', regexp_replace('workclass', \"\\\\?\", 'Not-specified'))\n",
    "dfs.select('workclass').distinct().collect()"
   ]
  },
  {
   "cell_type": "markdown",
   "id": "eb6beaa1",
   "metadata": {},
   "source": [
    "### Replaceing ? for the occupation with not specified"
   ]
  },
  {
   "cell_type": "code",
   "execution_count": 13,
   "id": "2c2d44f5",
   "metadata": {},
   "outputs": [
    {
     "data": {
      "text/plain": [
       "[Row(occupation='Sales'),\n",
       " Row(occupation='Exec-managerial'),\n",
       " Row(occupation='Prof-specialty'),\n",
       " Row(occupation='Handlers-cleaners'),\n",
       " Row(occupation='Farming-fishing'),\n",
       " Row(occupation='Craft-repair'),\n",
       " Row(occupation='Transport-moving'),\n",
       " Row(occupation='Priv-house-serv'),\n",
       " Row(occupation='Protective-serv'),\n",
       " Row(occupation='Other-service'),\n",
       " Row(occupation='Tech-support'),\n",
       " Row(occupation='Machine-op-inspct'),\n",
       " Row(occupation='Armed-Forces'),\n",
       " Row(occupation='?'),\n",
       " Row(occupation='Adm-clerical')]"
      ]
     },
     "execution_count": 13,
     "metadata": {},
     "output_type": "execute_result"
    }
   ],
   "source": [
    "dfs.select('occupation').distinct().collect()"
   ]
  },
  {
   "cell_type": "code",
   "execution_count": 14,
   "id": "fa817885",
   "metadata": {},
   "outputs": [
    {
     "data": {
      "text/plain": [
       "[Row(occupation='Sales'),\n",
       " Row(occupation='Exec-managerial'),\n",
       " Row(occupation='Prof-specialty'),\n",
       " Row(occupation='Handlers-cleaners'),\n",
       " Row(occupation='Farming-fishing'),\n",
       " Row(occupation='Not-specified'),\n",
       " Row(occupation='Craft-repair'),\n",
       " Row(occupation='Transport-moving'),\n",
       " Row(occupation='Priv-house-serv'),\n",
       " Row(occupation='Protective-serv'),\n",
       " Row(occupation='Other-service'),\n",
       " Row(occupation='Tech-support'),\n",
       " Row(occupation='Machine-op-inspct'),\n",
       " Row(occupation='Armed-Forces'),\n",
       " Row(occupation='Adm-clerical')]"
      ]
     },
     "execution_count": 14,
     "metadata": {},
     "output_type": "execute_result"
    }
   ],
   "source": [
    "dfs=dfs.withColumn('occupation', regexp_replace('occupation', \"\\\\?\", 'Not-specified'))\n",
    "dfs.select('occupation').distinct().collect()"
   ]
  },
  {
   "cell_type": "markdown",
   "id": "2e6ba374",
   "metadata": {},
   "source": [
    "### Replaceing ? for the native_country with not specified"
   ]
  },
  {
   "cell_type": "code",
   "execution_count": 15,
   "id": "7fdcae8a",
   "metadata": {},
   "outputs": [
    {
     "data": {
      "text/plain": [
       "[Row(native_country='Philippines'),\n",
       " Row(native_country='Germany'),\n",
       " Row(native_country='Cambodia'),\n",
       " Row(native_country='France'),\n",
       " Row(native_country='Greece'),\n",
       " Row(native_country='Taiwan'),\n",
       " Row(native_country='Ecuador'),\n",
       " Row(native_country='Nicaragua'),\n",
       " Row(native_country='Hong'),\n",
       " Row(native_country='Peru'),\n",
       " Row(native_country='India'),\n",
       " Row(native_country='China'),\n",
       " Row(native_country='Italy'),\n",
       " Row(native_country='Holand-Netherlands'),\n",
       " Row(native_country='Cuba'),\n",
       " Row(native_country='South'),\n",
       " Row(native_country='Iran'),\n",
       " Row(native_country='Ireland'),\n",
       " Row(native_country='Thailand'),\n",
       " Row(native_country='Laos'),\n",
       " Row(native_country='El-Salvador'),\n",
       " Row(native_country='Mexico'),\n",
       " Row(native_country='Guatemala'),\n",
       " Row(native_country='Honduras'),\n",
       " Row(native_country='Yugoslavia'),\n",
       " Row(native_country='Puerto-Rico'),\n",
       " Row(native_country='Jamaica'),\n",
       " Row(native_country='Canada'),\n",
       " Row(native_country='United-States'),\n",
       " Row(native_country='Dominican-Republic'),\n",
       " Row(native_country='Outlying-US(Guam-USVI-etc)'),\n",
       " Row(native_country='Japan'),\n",
       " Row(native_country='England'),\n",
       " Row(native_country='Haiti'),\n",
       " Row(native_country='Poland'),\n",
       " Row(native_country='Portugal'),\n",
       " Row(native_country='?'),\n",
       " Row(native_country='Columbia'),\n",
       " Row(native_country='Scotland'),\n",
       " Row(native_country='Hungary'),\n",
       " Row(native_country='Vietnam'),\n",
       " Row(native_country='Trinadad&Tobago')]"
      ]
     },
     "execution_count": 15,
     "metadata": {},
     "output_type": "execute_result"
    }
   ],
   "source": [
    "dfs.select('native_country').distinct().collect()"
   ]
  },
  {
   "cell_type": "code",
   "execution_count": 16,
   "id": "66b1a63e",
   "metadata": {},
   "outputs": [
    {
     "data": {
      "text/plain": [
       "[Row(native_country='Philippines'),\n",
       " Row(native_country='Germany'),\n",
       " Row(native_country='Cambodia'),\n",
       " Row(native_country='France'),\n",
       " Row(native_country='Greece'),\n",
       " Row(native_country='Taiwan'),\n",
       " Row(native_country='Ecuador'),\n",
       " Row(native_country='Nicaragua'),\n",
       " Row(native_country='Hong'),\n",
       " Row(native_country='Peru'),\n",
       " Row(native_country='India'),\n",
       " Row(native_country='China'),\n",
       " Row(native_country='Not-specified'),\n",
       " Row(native_country='Italy'),\n",
       " Row(native_country='Holand-Netherlands'),\n",
       " Row(native_country='Cuba'),\n",
       " Row(native_country='South'),\n",
       " Row(native_country='Iran'),\n",
       " Row(native_country='Ireland'),\n",
       " Row(native_country='Thailand'),\n",
       " Row(native_country='Laos'),\n",
       " Row(native_country='El-Salvador'),\n",
       " Row(native_country='Mexico'),\n",
       " Row(native_country='Guatemala'),\n",
       " Row(native_country='Honduras'),\n",
       " Row(native_country='Yugoslavia'),\n",
       " Row(native_country='Puerto-Rico'),\n",
       " Row(native_country='Jamaica'),\n",
       " Row(native_country='Canada'),\n",
       " Row(native_country='United-States'),\n",
       " Row(native_country='Dominican-Republic'),\n",
       " Row(native_country='Outlying-US(Guam-USVI-etc)'),\n",
       " Row(native_country='Japan'),\n",
       " Row(native_country='England'),\n",
       " Row(native_country='Haiti'),\n",
       " Row(native_country='Poland'),\n",
       " Row(native_country='Portugal'),\n",
       " Row(native_country='Columbia'),\n",
       " Row(native_country='Scotland'),\n",
       " Row(native_country='Hungary'),\n",
       " Row(native_country='Vietnam'),\n",
       " Row(native_country='Trinadad&Tobago')]"
      ]
     },
     "execution_count": 16,
     "metadata": {},
     "output_type": "execute_result"
    }
   ],
   "source": [
    "dfs=dfs.withColumn('native_country', regexp_replace('native_country', \"\\\\?\", 'Not-specified'))\n",
    "dfs.select('native_country').distinct().collect()"
   ]
  },
  {
   "cell_type": "markdown",
   "id": "612eba9a",
   "metadata": {},
   "source": [
    "### Make the values for education consistant"
   ]
  },
  {
   "cell_type": "code",
   "execution_count": 17,
   "id": "90b7172a",
   "metadata": {},
   "outputs": [
    {
     "data": {
      "text/plain": [
       "[Row(education='Masters'),\n",
       " Row(education='10th'),\n",
       " Row(education='5th-6th'),\n",
       " Row(education='Assoc-acdm'),\n",
       " Row(education='Assoc-voc'),\n",
       " Row(education='7th-8th'),\n",
       " Row(education='9th'),\n",
       " Row(education='HS-grad'),\n",
       " Row(education='Bachelors'),\n",
       " Row(education='11th'),\n",
       " Row(education='1st-4th'),\n",
       " Row(education='Preschool'),\n",
       " Row(education='12th'),\n",
       " Row(education='Doctorate'),\n",
       " Row(education='Some-college'),\n",
       " Row(education='Prof-school')]"
      ]
     },
     "execution_count": 17,
     "metadata": {},
     "output_type": "execute_result"
    }
   ],
   "source": [
    "dfs.select('education').distinct().collect()"
   ]
  },
  {
   "cell_type": "code",
   "execution_count": 18,
   "id": "f82528e1",
   "metadata": {},
   "outputs": [
    {
     "data": {
      "text/plain": [
       "[Row(education='Masters'),\n",
       " Row(education='10th'),\n",
       " Row(education='6th'),\n",
       " Row(education='Assoc-acdm'),\n",
       " Row(education='Assoc-voc'),\n",
       " Row(education='9th'),\n",
       " Row(education='HS-grad'),\n",
       " Row(education='Bachelors'),\n",
       " Row(education='11th'),\n",
       " Row(education='Preschool'),\n",
       " Row(education='8th'),\n",
       " Row(education='12th'),\n",
       " Row(education='Doctorate'),\n",
       " Row(education='4th'),\n",
       " Row(education='Some-college'),\n",
       " Row(education='Prof-school')]"
      ]
     },
     "execution_count": 18,
     "metadata": {},
     "output_type": "execute_result"
    }
   ],
   "source": [
    "dfs=dfs.withColumn('education', regexp_replace('education', \"5th-6th\", '6th'))\n",
    "dfs=dfs.withColumn('education', regexp_replace('education', \"7th-8th\", '8th'))\n",
    "dfs=dfs.withColumn('education', regexp_replace('education', \"1st-4th\", '4th'))\n",
    "\n",
    "dfs.select('education').distinct().collect()"
   ]
  },
  {
   "cell_type": "markdown",
   "id": "06f7bfc3",
   "metadata": {},
   "source": [
    "### Change the values for salary to be 0 if <=50k, and 1 if >50k"
   ]
  },
  {
   "cell_type": "code",
   "execution_count": 19,
   "id": "0f62e919",
   "metadata": {},
   "outputs": [
    {
     "data": {
      "text/plain": [
       "[Row(salary='<=50K'), Row(salary='>50K')]"
      ]
     },
     "execution_count": 19,
     "metadata": {},
     "output_type": "execute_result"
    }
   ],
   "source": [
    "dfs.select('salary').distinct().collect()"
   ]
  },
  {
   "cell_type": "code",
   "execution_count": 20,
   "id": "f211df21",
   "metadata": {},
   "outputs": [
    {
     "data": {
      "text/plain": [
       "[Row(salary=50000), Row(salary=50001)]"
      ]
     },
     "execution_count": 20,
     "metadata": {},
     "output_type": "execute_result"
    }
   ],
   "source": [
    "dfs=dfs.withColumn('salary', regexp_replace('salary', \"<=50K\", '50000'))\n",
    "dfs=dfs.withColumn('salary', regexp_replace('salary', \">50K\", '50001'))\n",
    "dfs = dfs.withColumn(\"salary\", dfs[\"salary\"].cast('int'))\n",
    "\n",
    "dfs.select('salary').distinct().collect()"
   ]
  },
  {
   "cell_type": "code",
   "execution_count": 32,
   "id": "fb84f6cf",
   "metadata": {},
   "outputs": [],
   "source": [
    "# pandasDF = dfs.toPandas()\n",
    "# pandasDF"
   ]
  },
  {
   "cell_type": "code",
   "execution_count": 33,
   "id": "b9cc4235",
   "metadata": {},
   "outputs": [],
   "source": [
    "# pandasDF.to_csv(\"clean_data_for_eda_pig.csv\",index=False)\n"
   ]
  },
  {
   "cell_type": "code",
   "execution_count": 17,
   "id": "e9da7c51",
   "metadata": {},
   "outputs": [
    {
     "name": "stderr",
     "output_type": "stream",
     "text": [
      "                                                                                \r"
     ]
    },
    {
     "data": {
      "text/plain": [
       "[Row(salary=1), Row(salary=0)]"
      ]
     },
     "execution_count": 17,
     "metadata": {},
     "output_type": "execute_result"
    }
   ],
   "source": [
    "dfs = dfs.withColumn(\"salary\", dfs[\"salary\"].cast('string'))\n",
    "\n",
    "dfs=dfs.withColumn('salary', regexp_replace('salary', \"50000\", '0'))\n",
    "dfs=dfs.withColumn('salary', regexp_replace('salary', \"50001\", '1'))\n",
    "dfs = dfs.withColumn(\"salary\", dfs[\"salary\"].cast('int'))\n",
    "\n",
    "dfs.select('salary').distinct().collect()"
   ]
  },
  {
   "cell_type": "markdown",
   "id": "19c483e7",
   "metadata": {},
   "source": [
    "### Summing the values for the fnlwgt column, and getting the percentage of fnlwgt"
   ]
  },
  {
   "cell_type": "code",
   "execution_count": 21,
   "id": "8b1b999c",
   "metadata": {},
   "outputs": [
    {
     "data": {
      "text/plain": [
       "196336661945"
      ]
     },
     "execution_count": 21,
     "metadata": {},
     "output_type": "execute_result"
    }
   ],
   "source": [
    "sum_fnlwgt=dfs.select(sum('fnlwgt')).collect()[0][0]\n",
    "sum_fnlwgt"
   ]
  },
  {
   "cell_type": "code",
   "execution_count": 22,
   "id": "4e245988",
   "metadata": {
    "scrolled": false
   },
   "outputs": [
    {
     "name": "stdout",
     "output_type": "stream",
     "text": [
      "+---+----------------+------+------------+-------------+--------------------+-----------------+-------------+------------------+------+------------+------------+--------------+--------------+------+-----------------+\n",
      "|age|       workclass|fnlwgt|   education|education_num|      marital_status|       occupation| relationship|              race|gender|capital_gain|capital_loss|hours_per_week|native_country|salary|fnlwgt_percentage|\n",
      "+---+----------------+------+------------+-------------+--------------------+-----------------+-------------+------------------+------+------------+------------+--------------+--------------+------+-----------------+\n",
      "| 39|       State-gov| 77516|   Bachelors|           13|       Never-married|     Adm-clerical|Not-in-family|             White|  Male|        2174|           0|            40| United-States| 50000|              0.0|\n",
      "| 50|Self-emp-not-inc| 83311|   Bachelors|           13|  Married-civ-spouse|  Exec-managerial|      Husband|             White|  Male|           0|           0|            13| United-States| 50000|              0.0|\n",
      "| 38|         Private|215646|     HS-grad|            9|            Divorced|Handlers-cleaners|Not-in-family|             White|  Male|           0|           0|            40| United-States| 50000|              0.0|\n",
      "| 53|         Private|234721|        11th|            7|  Married-civ-spouse|Handlers-cleaners|      Husband|             Black|  Male|           0|           0|            40| United-States| 50000|              0.0|\n",
      "| 28|         Private|338409|   Bachelors|           13|  Married-civ-spouse|   Prof-specialty|         Wife|             Black|Female|           0|           0|            40|          Cuba| 50000|              0.0|\n",
      "| 37|         Private|284582|     Masters|           14|  Married-civ-spouse|  Exec-managerial|         Wife|             White|Female|           0|           0|            40| United-States| 50000|              0.0|\n",
      "| 49|         Private|160187|         9th|            5|Married-spouse-ab...|    Other-service|Not-in-family|             Black|Female|           0|           0|            16|       Jamaica| 50000|              0.0|\n",
      "| 52|Self-emp-not-inc|209642|     HS-grad|            9|  Married-civ-spouse|  Exec-managerial|      Husband|             White|  Male|           0|           0|            45| United-States| 50001|              0.0|\n",
      "| 31|         Private| 45781|     Masters|           14|       Never-married|   Prof-specialty|Not-in-family|             White|Female|       14084|           0|            50| United-States| 50001|              0.0|\n",
      "| 42|         Private|159449|   Bachelors|           13|  Married-civ-spouse|  Exec-managerial|      Husband|             White|  Male|        5178|           0|            40| United-States| 50001|              0.0|\n",
      "| 37|         Private|280464|Some-college|           10|  Married-civ-spouse|  Exec-managerial|      Husband|             Black|  Male|           0|           0|            80| United-States| 50001|              0.0|\n",
      "| 30|       State-gov|141297|   Bachelors|           13|  Married-civ-spouse|   Prof-specialty|      Husband|Asian-Pac-Islander|  Male|           0|           0|            40|         India| 50001|              0.0|\n",
      "| 23|         Private|122272|   Bachelors|           13|       Never-married|     Adm-clerical|    Own-child|             White|Female|           0|           0|            30| United-States| 50000|              0.0|\n",
      "| 32|         Private|205019|  Assoc-acdm|           12|       Never-married|            Sales|Not-in-family|             Black|  Male|           0|           0|            50| United-States| 50000|              0.0|\n",
      "| 40|         Private|121772|   Assoc-voc|           11|  Married-civ-spouse|     Craft-repair|      Husband|Asian-Pac-Islander|  Male|           0|           0|            40| Not-specified| 50001|              0.0|\n",
      "| 34|         Private|245487|         8th|            4|  Married-civ-spouse| Transport-moving|      Husband|Amer-Indian-Eskimo|  Male|           0|           0|            45|        Mexico| 50000|              0.0|\n",
      "| 25|Self-emp-not-inc|176756|     HS-grad|            9|       Never-married|  Farming-fishing|    Own-child|             White|  Male|           0|           0|            35| United-States| 50000|              0.0|\n",
      "| 32|         Private|186824|     HS-grad|            9|       Never-married|Machine-op-inspct|    Unmarried|             White|  Male|           0|           0|            40| United-States| 50000|              0.0|\n",
      "| 38|         Private| 28887|        11th|            7|  Married-civ-spouse|            Sales|      Husband|             White|  Male|           0|           0|            50| United-States| 50000|              0.0|\n",
      "| 43|Self-emp-not-inc|292175|     Masters|           14|            Divorced|  Exec-managerial|    Unmarried|             White|Female|           0|           0|            45| United-States| 50001|              0.0|\n",
      "+---+----------------+------+------------+-------------+--------------------+-----------------+-------------+------------------+------+------------+------------+--------------+--------------+------+-----------------+\n",
      "only showing top 20 rows\n",
      "\n"
     ]
    }
   ],
   "source": [
    "dfs=dfs.withColumn('fnlwgt_percentage',round((dfs.fnlwgt/sum_fnlwgt)*100,2))\n",
    "dfs.show()"
   ]
  },
  {
   "cell_type": "markdown",
   "id": "23c359ab",
   "metadata": {},
   "source": [
    "### The diffrence of  capital gain and loss"
   ]
  },
  {
   "cell_type": "code",
   "execution_count": 24,
   "id": "79005a7a",
   "metadata": {},
   "outputs": [
    {
     "name": "stdout",
     "output_type": "stream",
     "text": [
      "+---+----------------+------+------------+-------------+--------------------+-----------------+-------------+------------------+------+------------+------------+--------------+--------------+------+-----------------+---------------------------+\n",
      "|age|       workclass|fnlwgt|   education|education_num|      marital_status|       occupation| relationship|              race|gender|capital_gain|capital_loss|hours_per_week|native_country|salary|fnlwgt_percentage|diffrence_capital_gain_loos|\n",
      "+---+----------------+------+------------+-------------+--------------------+-----------------+-------------+------------------+------+------------+------------+--------------+--------------+------+-----------------+---------------------------+\n",
      "| 39|       State-gov| 77516|   Bachelors|           13|       Never-married|     Adm-clerical|Not-in-family|             White|  Male|        2174|           0|            40| United-States| 50000|              0.0|                       2174|\n",
      "| 50|Self-emp-not-inc| 83311|   Bachelors|           13|  Married-civ-spouse|  Exec-managerial|      Husband|             White|  Male|           0|           0|            13| United-States| 50000|              0.0|                          0|\n",
      "| 38|         Private|215646|     HS-grad|            9|            Divorced|Handlers-cleaners|Not-in-family|             White|  Male|           0|           0|            40| United-States| 50000|              0.0|                          0|\n",
      "| 53|         Private|234721|        11th|            7|  Married-civ-spouse|Handlers-cleaners|      Husband|             Black|  Male|           0|           0|            40| United-States| 50000|              0.0|                          0|\n",
      "| 28|         Private|338409|   Bachelors|           13|  Married-civ-spouse|   Prof-specialty|         Wife|             Black|Female|           0|           0|            40|          Cuba| 50000|              0.0|                          0|\n",
      "| 37|         Private|284582|     Masters|           14|  Married-civ-spouse|  Exec-managerial|         Wife|             White|Female|           0|           0|            40| United-States| 50000|              0.0|                          0|\n",
      "| 49|         Private|160187|         9th|            5|Married-spouse-ab...|    Other-service|Not-in-family|             Black|Female|           0|           0|            16|       Jamaica| 50000|              0.0|                          0|\n",
      "| 52|Self-emp-not-inc|209642|     HS-grad|            9|  Married-civ-spouse|  Exec-managerial|      Husband|             White|  Male|           0|           0|            45| United-States| 50001|              0.0|                          0|\n",
      "| 31|         Private| 45781|     Masters|           14|       Never-married|   Prof-specialty|Not-in-family|             White|Female|       14084|           0|            50| United-States| 50001|              0.0|                      14084|\n",
      "| 42|         Private|159449|   Bachelors|           13|  Married-civ-spouse|  Exec-managerial|      Husband|             White|  Male|        5178|           0|            40| United-States| 50001|              0.0|                       5178|\n",
      "| 37|         Private|280464|Some-college|           10|  Married-civ-spouse|  Exec-managerial|      Husband|             Black|  Male|           0|           0|            80| United-States| 50001|              0.0|                          0|\n",
      "| 30|       State-gov|141297|   Bachelors|           13|  Married-civ-spouse|   Prof-specialty|      Husband|Asian-Pac-Islander|  Male|           0|           0|            40|         India| 50001|              0.0|                          0|\n",
      "| 23|         Private|122272|   Bachelors|           13|       Never-married|     Adm-clerical|    Own-child|             White|Female|           0|           0|            30| United-States| 50000|              0.0|                          0|\n",
      "| 32|         Private|205019|  Assoc-acdm|           12|       Never-married|            Sales|Not-in-family|             Black|  Male|           0|           0|            50| United-States| 50000|              0.0|                          0|\n",
      "| 40|         Private|121772|   Assoc-voc|           11|  Married-civ-spouse|     Craft-repair|      Husband|Asian-Pac-Islander|  Male|           0|           0|            40| Not-specified| 50001|              0.0|                          0|\n",
      "| 34|         Private|245487|         8th|            4|  Married-civ-spouse| Transport-moving|      Husband|Amer-Indian-Eskimo|  Male|           0|           0|            45|        Mexico| 50000|              0.0|                          0|\n",
      "| 25|Self-emp-not-inc|176756|     HS-grad|            9|       Never-married|  Farming-fishing|    Own-child|             White|  Male|           0|           0|            35| United-States| 50000|              0.0|                          0|\n",
      "| 32|         Private|186824|     HS-grad|            9|       Never-married|Machine-op-inspct|    Unmarried|             White|  Male|           0|           0|            40| United-States| 50000|              0.0|                          0|\n",
      "| 38|         Private| 28887|        11th|            7|  Married-civ-spouse|            Sales|      Husband|             White|  Male|           0|           0|            50| United-States| 50000|              0.0|                          0|\n",
      "| 43|Self-emp-not-inc|292175|     Masters|           14|            Divorced|  Exec-managerial|    Unmarried|             White|Female|           0|           0|            45| United-States| 50001|              0.0|                          0|\n",
      "+---+----------------+------+------------+-------------+--------------------+-----------------+-------------+------------------+------+------------+------------+--------------+--------------+------+-----------------+---------------------------+\n",
      "only showing top 20 rows\n",
      "\n"
     ]
    }
   ],
   "source": [
    "dfs=dfs.withColumn('diffrence_capital_gain_loos',(dfs.capital_gain-dfs.capital_loss))\n",
    "dfs.show()"
   ]
  },
  {
   "cell_type": "code",
   "execution_count": 25,
   "id": "d1e3d916",
   "metadata": {},
   "outputs": [
    {
     "name": "stdout",
     "output_type": "stream",
     "text": [
      "+---+----------------+------+------------+-------------+--------------------+-----------------+-------------+------------------+------+------------+------------+--------------+--------------+------+-----------------+---------------------------+------+\n",
      "|age|       workclass|fnlwgt|   education|education_num|      marital_status|       occupation| relationship|              race|gender|capital_gain|capital_loss|hours_per_week|native_country|salary|fnlwgt_percentage|diffrence_capital_gain_loos|profit|\n",
      "+---+----------------+------+------------+-------------+--------------------+-----------------+-------------+------------------+------+------------+------------+--------------+--------------+------+-----------------+---------------------------+------+\n",
      "| 39|       State-gov| 77516|   Bachelors|           13|       Never-married|     Adm-clerical|Not-in-family|             White|  Male|        2174|           0|            40| United-States| 50000|              0.0|                       2174|     1|\n",
      "| 50|Self-emp-not-inc| 83311|   Bachelors|           13|  Married-civ-spouse|  Exec-managerial|      Husband|             White|  Male|           0|           0|            13| United-States| 50000|              0.0|                          0|     0|\n",
      "| 38|         Private|215646|     HS-grad|            9|            Divorced|Handlers-cleaners|Not-in-family|             White|  Male|           0|           0|            40| United-States| 50000|              0.0|                          0|     0|\n",
      "| 53|         Private|234721|        11th|            7|  Married-civ-spouse|Handlers-cleaners|      Husband|             Black|  Male|           0|           0|            40| United-States| 50000|              0.0|                          0|     0|\n",
      "| 28|         Private|338409|   Bachelors|           13|  Married-civ-spouse|   Prof-specialty|         Wife|             Black|Female|           0|           0|            40|          Cuba| 50000|              0.0|                          0|     0|\n",
      "| 37|         Private|284582|     Masters|           14|  Married-civ-spouse|  Exec-managerial|         Wife|             White|Female|           0|           0|            40| United-States| 50000|              0.0|                          0|     0|\n",
      "| 49|         Private|160187|         9th|            5|Married-spouse-ab...|    Other-service|Not-in-family|             Black|Female|           0|           0|            16|       Jamaica| 50000|              0.0|                          0|     0|\n",
      "| 52|Self-emp-not-inc|209642|     HS-grad|            9|  Married-civ-spouse|  Exec-managerial|      Husband|             White|  Male|           0|           0|            45| United-States| 50001|              0.0|                          0|     0|\n",
      "| 31|         Private| 45781|     Masters|           14|       Never-married|   Prof-specialty|Not-in-family|             White|Female|       14084|           0|            50| United-States| 50001|              0.0|                      14084|     1|\n",
      "| 42|         Private|159449|   Bachelors|           13|  Married-civ-spouse|  Exec-managerial|      Husband|             White|  Male|        5178|           0|            40| United-States| 50001|              0.0|                       5178|     1|\n",
      "| 37|         Private|280464|Some-college|           10|  Married-civ-spouse|  Exec-managerial|      Husband|             Black|  Male|           0|           0|            80| United-States| 50001|              0.0|                          0|     0|\n",
      "| 30|       State-gov|141297|   Bachelors|           13|  Married-civ-spouse|   Prof-specialty|      Husband|Asian-Pac-Islander|  Male|           0|           0|            40|         India| 50001|              0.0|                          0|     0|\n",
      "| 23|         Private|122272|   Bachelors|           13|       Never-married|     Adm-clerical|    Own-child|             White|Female|           0|           0|            30| United-States| 50000|              0.0|                          0|     0|\n",
      "| 32|         Private|205019|  Assoc-acdm|           12|       Never-married|            Sales|Not-in-family|             Black|  Male|           0|           0|            50| United-States| 50000|              0.0|                          0|     0|\n",
      "| 40|         Private|121772|   Assoc-voc|           11|  Married-civ-spouse|     Craft-repair|      Husband|Asian-Pac-Islander|  Male|           0|           0|            40| Not-specified| 50001|              0.0|                          0|     0|\n",
      "| 34|         Private|245487|         8th|            4|  Married-civ-spouse| Transport-moving|      Husband|Amer-Indian-Eskimo|  Male|           0|           0|            45|        Mexico| 50000|              0.0|                          0|     0|\n",
      "| 25|Self-emp-not-inc|176756|     HS-grad|            9|       Never-married|  Farming-fishing|    Own-child|             White|  Male|           0|           0|            35| United-States| 50000|              0.0|                          0|     0|\n",
      "| 32|         Private|186824|     HS-grad|            9|       Never-married|Machine-op-inspct|    Unmarried|             White|  Male|           0|           0|            40| United-States| 50000|              0.0|                          0|     0|\n",
      "| 38|         Private| 28887|        11th|            7|  Married-civ-spouse|            Sales|      Husband|             White|  Male|           0|           0|            50| United-States| 50000|              0.0|                          0|     0|\n",
      "| 43|Self-emp-not-inc|292175|     Masters|           14|            Divorced|  Exec-managerial|    Unmarried|             White|Female|           0|           0|            45| United-States| 50001|              0.0|                          0|     0|\n",
      "+---+----------------+------+------------+-------------+--------------------+-----------------+-------------+------------------+------+------------+------------+--------------+--------------+------+-----------------+---------------------------+------+\n",
      "only showing top 20 rows\n",
      "\n"
     ]
    }
   ],
   "source": [
    "dfs=dfs.withColumn('profit',when((dfs.diffrence_capital_gain_loos >0), lit(1)).when((dfs.diffrence_capital_gain_loos ==0), lit(0)).when((dfs.diffrence_capital_gain_loos <0), lit(-1)))\n",
    "dfs.show()"
   ]
  },
  {
   "cell_type": "code",
   "execution_count": 26,
   "id": "045a1c62",
   "metadata": {},
   "outputs": [
    {
     "data": {
      "text/plain": [
       "[Row(profit=-1), Row(profit=1), Row(profit=0)]"
      ]
     },
     "execution_count": 26,
     "metadata": {},
     "output_type": "execute_result"
    }
   ],
   "source": [
    "dfs.select('profit').distinct().collect()"
   ]
  },
  {
   "cell_type": "code",
   "execution_count": 27,
   "id": "09e354ad",
   "metadata": {},
   "outputs": [
    {
     "name": "stdout",
     "output_type": "stream",
     "text": [
      "+---+----------------+------+------------+-------------+------------------+----------------+-------------+------------------+------+------------+------------+--------------+--------------+------+-----------------+---------------------------+------+\n",
      "|age|workclass       |fnlwgt|education   |education_num|marital_status    |occupation      |relationship |race              |gender|capital_gain|capital_loss|hours_per_week|native_country|salary|fnlwgt_percentage|diffrence_capital_gain_loos|profit|\n",
      "+---+----------------+------+------------+-------------+------------------+----------------+-------------+------------------+------+------------+------------+--------------+--------------+------+-----------------+---------------------------+------+\n",
      "|43 |Private         |117037|11th        |7            |Married-civ-spouse|Transport-moving|Husband      |White             |Male  |0           |2042        |40            |United-States |50000 |0.0              |-2042                      |-1    |\n",
      "|45 |Private         |386940|Bachelors   |13           |Divorced          |Exec-managerial |Own-child    |White             |Male  |0           |1408        |40            |United-States |50000 |0.0              |-1408                      |-1    |\n",
      "|47 |Private         |51835 |Prof-school |15           |Married-civ-spouse|Prof-specialty  |Wife         |White             |Female|0           |1902        |60            |Honduras      |50001 |0.0              |-1902                      |-1    |\n",
      "|30 |Private         |117747|HS-grad     |9            |Married-civ-spouse|Sales           |Wife         |Asian-Pac-Islander|Female|0           |1573        |35            |Not-specified |50000 |0.0              |-1573                      |-1    |\n",
      "|48 |Self-emp-not-inc|191277|Doctorate   |16           |Married-civ-spouse|Prof-specialty  |Husband      |White             |Male  |0           |1902        |60            |United-States |50001 |0.0              |-1902                      |-1    |\n",
      "|56 |Self-emp-not-inc|335605|HS-grad     |9            |Married-civ-spouse|Other-service   |Husband      |White             |Male  |0           |1887        |50            |Canada        |50001 |0.0              |-1887                      |-1    |\n",
      "|20 |Private         |111697|Some-college|10           |Never-married     |Adm-clerical    |Own-child    |White             |Female|0           |1719        |28            |United-States |50000 |0.0              |-1719                      |-1    |\n",
      "|24 |Private         |43323 |HS-grad     |9            |Never-married     |Other-service   |Not-in-family|White             |Female|0           |1762        |40            |United-States |50000 |0.0              |-1762                      |-1    |\n",
      "|45 |Private         |196584|Assoc-voc   |11           |Never-married     |Prof-specialty  |Not-in-family|White             |Female|0           |1564        |40            |United-States |50001 |0.0              |-1564                      |-1    |\n",
      "|64 |Private         |181232|11th        |7            |Married-civ-spouse|Craft-repair    |Husband      |White             |Male  |0           |2179        |40            |United-States |50000 |0.0              |-2179                      |-1    |\n",
      "|71 |Self-emp-not-inc|494223|Some-college|10           |Separated         |Sales           |Unmarried    |Black             |Male  |0           |1816        |2             |United-States |50000 |0.0              |-1816                      |-1    |\n",
      "|27 |Private         |124953|HS-grad     |9            |Never-married     |Other-service   |Not-in-family|White             |Male  |0           |1980        |40            |United-States |50000 |0.0              |-1980                      |-1    |\n",
      "|51 |Private         |96062 |Some-college|10           |Married-civ-spouse|Sales           |Husband      |White             |Male  |0           |1977        |40            |United-States |50001 |0.0              |-1977                      |-1    |\n",
      "|26 |Private         |397317|Masters     |14           |Never-married     |Prof-specialty  |Not-in-family|White             |Female|0           |1876        |40            |United-States |50000 |0.0              |-1876                      |-1    |\n",
      "|42 |Local-gov       |254817|Some-college|10           |Never-married     |Prof-specialty  |Not-in-family|White             |Female|0           |1340        |40            |United-States |50000 |0.0              |-1340                      |-1    |\n",
      "|90 |Private         |51744 |HS-grad     |9            |Never-married     |Other-service   |Not-in-family|Black             |Male  |0           |2206        |40            |United-States |50000 |0.0              |-2206                      |-1    |\n",
      "|38 |Private         |179488|Some-college|10           |Divorced          |Craft-repair    |Not-in-family|White             |Male  |0           |1741        |40            |United-States |50000 |0.0              |-1741                      |-1    |\n",
      "|40 |Private         |207578|Assoc-acdm  |12           |Married-civ-spouse|Tech-support    |Husband      |White             |Male  |0           |1977        |60            |United-States |50001 |0.0              |-1977                      |-1    |\n",
      "|43 |Private         |50356 |Some-college|10           |Married-civ-spouse|Craft-repair    |Husband      |White             |Male  |0           |1485        |50            |United-States |50000 |0.0              |-1485                      |-1    |\n",
      "|43 |Private         |187728|Some-college|10           |Married-civ-spouse|Prof-specialty  |Wife         |White             |Female|0           |1887        |50            |United-States |50001 |0.0              |-1887                      |-1    |\n",
      "+---+----------------+------+------------+-------------+------------------+----------------+-------------+------------------+------+------------+------------+--------------+--------------+------+-----------------+---------------------------+------+\n",
      "only showing top 20 rows\n",
      "\n"
     ]
    }
   ],
   "source": [
    "dfs.filter(dfs.profit == -1).show(truncate=False)"
   ]
  },
  {
   "cell_type": "markdown",
   "id": "67685c62",
   "metadata": {},
   "source": [
    "### Finding if someone is workholic which is 1, or no which is 0"
   ]
  },
  {
   "cell_type": "code",
   "execution_count": 28,
   "id": "0754d74f",
   "metadata": {},
   "outputs": [
    {
     "name": "stdout",
     "output_type": "stream",
     "text": [
      "+---+----------------+------+------------+-------------+--------------------+-----------------+-------------+------------------+------+------------+------------+--------------+--------------+------+-----------------+---------------------------+------+----------+\n",
      "|age|       workclass|fnlwgt|   education|education_num|      marital_status|       occupation| relationship|              race|gender|capital_gain|capital_loss|hours_per_week|native_country|salary|fnlwgt_percentage|diffrence_capital_gain_loos|profit|workaholic|\n",
      "+---+----------------+------+------------+-------------+--------------------+-----------------+-------------+------------------+------+------------+------------+--------------+--------------+------+-----------------+---------------------------+------+----------+\n",
      "| 39|       State-gov| 77516|   Bachelors|           13|       Never-married|     Adm-clerical|Not-in-family|             White|  Male|        2174|           0|            40| United-States| 50000|              0.0|                       2174|     1|         0|\n",
      "| 50|Self-emp-not-inc| 83311|   Bachelors|           13|  Married-civ-spouse|  Exec-managerial|      Husband|             White|  Male|           0|           0|            13| United-States| 50000|              0.0|                          0|     0|         0|\n",
      "| 38|         Private|215646|     HS-grad|            9|            Divorced|Handlers-cleaners|Not-in-family|             White|  Male|           0|           0|            40| United-States| 50000|              0.0|                          0|     0|         0|\n",
      "| 53|         Private|234721|        11th|            7|  Married-civ-spouse|Handlers-cleaners|      Husband|             Black|  Male|           0|           0|            40| United-States| 50000|              0.0|                          0|     0|         0|\n",
      "| 28|         Private|338409|   Bachelors|           13|  Married-civ-spouse|   Prof-specialty|         Wife|             Black|Female|           0|           0|            40|          Cuba| 50000|              0.0|                          0|     0|         0|\n",
      "| 37|         Private|284582|     Masters|           14|  Married-civ-spouse|  Exec-managerial|         Wife|             White|Female|           0|           0|            40| United-States| 50000|              0.0|                          0|     0|         0|\n",
      "| 49|         Private|160187|         9th|            5|Married-spouse-ab...|    Other-service|Not-in-family|             Black|Female|           0|           0|            16|       Jamaica| 50000|              0.0|                          0|     0|         0|\n",
      "| 52|Self-emp-not-inc|209642|     HS-grad|            9|  Married-civ-spouse|  Exec-managerial|      Husband|             White|  Male|           0|           0|            45| United-States| 50001|              0.0|                          0|     0|         0|\n",
      "| 31|         Private| 45781|     Masters|           14|       Never-married|   Prof-specialty|Not-in-family|             White|Female|       14084|           0|            50| United-States| 50001|              0.0|                      14084|     1|         0|\n",
      "| 42|         Private|159449|   Bachelors|           13|  Married-civ-spouse|  Exec-managerial|      Husband|             White|  Male|        5178|           0|            40| United-States| 50001|              0.0|                       5178|     1|         0|\n",
      "| 37|         Private|280464|Some-college|           10|  Married-civ-spouse|  Exec-managerial|      Husband|             Black|  Male|           0|           0|            80| United-States| 50001|              0.0|                          0|     0|         1|\n",
      "| 30|       State-gov|141297|   Bachelors|           13|  Married-civ-spouse|   Prof-specialty|      Husband|Asian-Pac-Islander|  Male|           0|           0|            40|         India| 50001|              0.0|                          0|     0|         0|\n",
      "| 23|         Private|122272|   Bachelors|           13|       Never-married|     Adm-clerical|    Own-child|             White|Female|           0|           0|            30| United-States| 50000|              0.0|                          0|     0|         0|\n",
      "| 32|         Private|205019|  Assoc-acdm|           12|       Never-married|            Sales|Not-in-family|             Black|  Male|           0|           0|            50| United-States| 50000|              0.0|                          0|     0|         0|\n",
      "| 40|         Private|121772|   Assoc-voc|           11|  Married-civ-spouse|     Craft-repair|      Husband|Asian-Pac-Islander|  Male|           0|           0|            40| Not-specified| 50001|              0.0|                          0|     0|         0|\n",
      "| 34|         Private|245487|         8th|            4|  Married-civ-spouse| Transport-moving|      Husband|Amer-Indian-Eskimo|  Male|           0|           0|            45|        Mexico| 50000|              0.0|                          0|     0|         0|\n",
      "| 25|Self-emp-not-inc|176756|     HS-grad|            9|       Never-married|  Farming-fishing|    Own-child|             White|  Male|           0|           0|            35| United-States| 50000|              0.0|                          0|     0|         0|\n",
      "| 32|         Private|186824|     HS-grad|            9|       Never-married|Machine-op-inspct|    Unmarried|             White|  Male|           0|           0|            40| United-States| 50000|              0.0|                          0|     0|         0|\n",
      "| 38|         Private| 28887|        11th|            7|  Married-civ-spouse|            Sales|      Husband|             White|  Male|           0|           0|            50| United-States| 50000|              0.0|                          0|     0|         0|\n",
      "| 43|Self-emp-not-inc|292175|     Masters|           14|            Divorced|  Exec-managerial|    Unmarried|             White|Female|           0|           0|            45| United-States| 50001|              0.0|                          0|     0|         0|\n",
      "+---+----------------+------+------------+-------------+--------------------+-----------------+-------------+------------------+------+------------+------------+--------------+--------------+------+-----------------+---------------------------+------+----------+\n",
      "only showing top 20 rows\n",
      "\n"
     ]
    }
   ],
   "source": [
    "dfs=dfs.withColumn('workaholic',when((dfs.hours_per_week >=70), lit(1)).when((dfs.hours_per_week <70), lit(0)))\n",
    "dfs.show()"
   ]
  },
  {
   "cell_type": "markdown",
   "id": "5d69af01",
   "metadata": {},
   "source": [
    "### Replacing the native_country with in united state or not"
   ]
  },
  {
   "cell_type": "code",
   "execution_count": 29,
   "id": "9f349aff",
   "metadata": {},
   "outputs": [
    {
     "data": {
      "text/plain": [
       "[Row(native_country='Philippines'),\n",
       " Row(native_country='Germany'),\n",
       " Row(native_country='Cambodia'),\n",
       " Row(native_country='France'),\n",
       " Row(native_country='Greece'),\n",
       " Row(native_country='Taiwan'),\n",
       " Row(native_country='Ecuador'),\n",
       " Row(native_country='Nicaragua'),\n",
       " Row(native_country='Hong'),\n",
       " Row(native_country='Peru'),\n",
       " Row(native_country='India'),\n",
       " Row(native_country='China'),\n",
       " Row(native_country='Not-specified'),\n",
       " Row(native_country='Italy'),\n",
       " Row(native_country='Holand-Netherlands'),\n",
       " Row(native_country='Cuba'),\n",
       " Row(native_country='South'),\n",
       " Row(native_country='Iran'),\n",
       " Row(native_country='Ireland'),\n",
       " Row(native_country='Thailand'),\n",
       " Row(native_country='Laos'),\n",
       " Row(native_country='El-Salvador'),\n",
       " Row(native_country='Mexico'),\n",
       " Row(native_country='Guatemala'),\n",
       " Row(native_country='Honduras'),\n",
       " Row(native_country='Yugoslavia'),\n",
       " Row(native_country='Puerto-Rico'),\n",
       " Row(native_country='Jamaica'),\n",
       " Row(native_country='Canada'),\n",
       " Row(native_country='United-States'),\n",
       " Row(native_country='Dominican-Republic'),\n",
       " Row(native_country='Outlying-US(Guam-USVI-etc)'),\n",
       " Row(native_country='Japan'),\n",
       " Row(native_country='England'),\n",
       " Row(native_country='Haiti'),\n",
       " Row(native_country='Poland'),\n",
       " Row(native_country='Portugal'),\n",
       " Row(native_country='Columbia'),\n",
       " Row(native_country='Scotland'),\n",
       " Row(native_country='Hungary'),\n",
       " Row(native_country='Vietnam'),\n",
       " Row(native_country='Trinadad&Tobago')]"
      ]
     },
     "execution_count": 29,
     "metadata": {},
     "output_type": "execute_result"
    }
   ],
   "source": [
    "dfs.select('native_country').distinct().collect()"
   ]
  },
  {
   "cell_type": "code",
   "execution_count": 30,
   "id": "ccfd0727",
   "metadata": {},
   "outputs": [],
   "source": [
    "dfs=dfs.withColumn('native_country', regexp_replace('native_country', \"Philippines\", 'Asia'))\n",
    "dfs=dfs.withColumn('native_country', regexp_replace('native_country', \"Germany\", 'Europe'))\n",
    "dfs=dfs.withColumn('native_country', regexp_replace('native_country', \"Cambodia\", 'Asia'))\n",
    "dfs=dfs.withColumn('native_country', regexp_replace('native_country', \"France\", 'Europe'))\n",
    "dfs=dfs.withColumn('native_country', regexp_replace('native_country', \"Greece\", 'Europe'))\n",
    "dfs=dfs.withColumn('native_country', regexp_replace('native_country', \"Taiwan\", 'Asia'))\n",
    "dfs=dfs.withColumn('native_country', regexp_replace('native_country', \"Ecuador\", 'South_America'))\n",
    "dfs=dfs.withColumn('native_country', regexp_replace('native_country', \"Nicaragua\", 'Central_America'))\n",
    "dfs=dfs.withColumn('native_country', regexp_replace('native_country', \"Hong\", 'Asia'))\n",
    "dfs=dfs.withColumn('native_country', regexp_replace('native_country', \"Peru\", 'South_America'))\n",
    "dfs=dfs.withColumn('native_country', regexp_replace('native_country', \"India\", 'Asia'))\n",
    "dfs=dfs.withColumn('native_country', regexp_replace('native_country', \"China\", 'Asia'))\n",
    "dfs=dfs.withColumn('native_country', regexp_replace('native_country', \"Italy\", 'Europe'))\n",
    "dfs=dfs.withColumn('native_country', regexp_replace('native_country', \"Holand-Netherlands\", 'Europe'))\n",
    "dfs=dfs.withColumn('native_country', regexp_replace('native_country', \"Cuba\", 'Caribbean'))\n",
    "dfs=dfs.withColumn('native_country', regexp_replace('native_country', \"Iran\", 'Middle_East'))\n",
    "dfs=dfs.withColumn('native_country', regexp_replace('native_country', \"Ireland\", 'Europe'))\n",
    "dfs=dfs.withColumn('native_country', regexp_replace('native_country', \"Thailand\", 'Asia'))\n",
    "dfs=dfs.withColumn('native_country', regexp_replace('native_country', \"Laos\", 'Asia'))\n",
    "dfs=dfs.withColumn('native_country', regexp_replace('native_country', \"El-Salvador\", 'Central_America'))\n",
    "dfs=dfs.withColumn('native_country', regexp_replace('native_country', \"Mexico\", 'North_America'))\n",
    "dfs=dfs.withColumn('native_country', regexp_replace('native_country', \"Guatemala\", 'Central_America'))\n",
    "dfs=dfs.withColumn('native_country', regexp_replace('native_country', \"Honduras\", 'Central_America'))\n",
    "dfs=dfs.withColumn('native_country', regexp_replace('native_country', \"Yugoslavia\", 'Europe'))\n",
    "dfs=dfs.withColumn('native_country', regexp_replace('native_country', \"Puerto-Rico\", 'Caribbean'))\n",
    "dfs=dfs.withColumn('native_country', regexp_replace('native_country', \"Jamaica\", 'Caribbean'))\n",
    "dfs=dfs.withColumn('native_country', regexp_replace('native_country', \"Canada\", 'North_America'))\n",
    "dfs=dfs.withColumn('native_country', regexp_replace('native_country', \"United-States\", 'North_America'))\n",
    "dfs=dfs.withColumn('native_country', regexp_replace('native_country', \"Dominican-Republic\", 'Caribbean'))\n",
    "dfs=dfs.withColumn('native_country', regexp_replace('native_country', \"Outlying-US\\(Guam-USVI-etc\\)\", 'Caribbean'))\n",
    "dfs=dfs.withColumn('native_country', regexp_replace('native_country', \"Japan\", 'Asia'))\n",
    "dfs=dfs.withColumn('native_country', regexp_replace('native_country', \"England\", 'United_kingdom'))\n",
    "dfs=dfs.withColumn('native_country', regexp_replace('native_country', \"Haiti\", 'Caribbean'))\n",
    "dfs=dfs.withColumn('native_country', regexp_replace('native_country', \"Poland\", 'Europe'))\n",
    "dfs=dfs.withColumn('native_country', regexp_replace('native_country', \"Portugal\", 'Europe'))\n",
    "dfs=dfs.withColumn('native_country', regexp_replace('native_country', \"Columbia\", 'South_America'))\n",
    "dfs=dfs.withColumn('native_country', regexp_replace('native_country', \"Scotland\", 'United_kingdom'))\n",
    "dfs=dfs.withColumn('native_country', regexp_replace('native_country', \"Hungary\", 'Europe'))\n",
    "dfs=dfs.withColumn('native_country', regexp_replace('native_country', \"Vietnam\", 'Asia'))\n",
    "dfs=dfs.withColumn('native_country', regexp_replace('native_country', \"Trinadad&Tobago\", 'Caribbean'))"
   ]
  },
  {
   "cell_type": "code",
   "execution_count": 31,
   "id": "d5a6a022",
   "metadata": {},
   "outputs": [],
   "source": [
    "dfs=dfs.where(dfs.native_country!='South')"
   ]
  },
  {
   "cell_type": "code",
   "execution_count": 32,
   "id": "ca5d0ca9",
   "metadata": {},
   "outputs": [
    {
     "data": {
      "text/plain": [
       "[Row(native_country='Middle_East'),\n",
       " Row(native_country='Europe'),\n",
       " Row(native_country='Central_America'),\n",
       " Row(native_country='Not-specified'),\n",
       " Row(native_country='Caribbean'),\n",
       " Row(native_country='South_America'),\n",
       " Row(native_country='North_America'),\n",
       " Row(native_country='United_kingdom'),\n",
       " Row(native_country='Asia')]"
      ]
     },
     "execution_count": 32,
     "metadata": {},
     "output_type": "execute_result"
    }
   ],
   "source": [
    "dfs.select('native_country').distinct().collect()"
   ]
  },
  {
   "cell_type": "code",
   "execution_count": 33,
   "id": "6ef93fc5",
   "metadata": {},
   "outputs": [
    {
     "name": "stdout",
     "output_type": "stream",
     "text": [
      "root\n",
      " |-- age: integer (nullable = true)\n",
      " |-- workclass: string (nullable = true)\n",
      " |-- fnlwgt: integer (nullable = true)\n",
      " |-- education: string (nullable = true)\n",
      " |-- education_num: integer (nullable = true)\n",
      " |-- marital_status: string (nullable = true)\n",
      " |-- occupation: string (nullable = true)\n",
      " |-- relationship: string (nullable = true)\n",
      " |-- race: string (nullable = true)\n",
      " |-- gender: string (nullable = true)\n",
      " |-- capital_gain: integer (nullable = true)\n",
      " |-- capital_loss: integer (nullable = true)\n",
      " |-- hours_per_week: integer (nullable = true)\n",
      " |-- native_country: string (nullable = true)\n",
      " |-- salary: integer (nullable = true)\n",
      " |-- fnlwgt_percentage: double (nullable = true)\n",
      " |-- diffrence_capital_gain_loos: integer (nullable = true)\n",
      " |-- profit: integer (nullable = true)\n",
      " |-- workaholic: integer (nullable = true)\n",
      "\n"
     ]
    }
   ],
   "source": [
    "dfs.printSchema()"
   ]
  },
  {
   "cell_type": "code",
   "execution_count": 34,
   "id": "8a1d1ac3",
   "metadata": {},
   "outputs": [],
   "source": [
    "# pandasDF = dfs.toPandas()\n",
    "# pandasDF"
   ]
  },
  {
   "cell_type": "code",
   "execution_count": 35,
   "id": "343d6a47",
   "metadata": {},
   "outputs": [],
   "source": [
    "# pandasDF.to_csv(\"clean_data_for_dashboard.csv\",index=False)"
   ]
  },
  {
   "cell_type": "markdown",
   "id": "69003e06",
   "metadata": {},
   "source": [
    "# MODEL"
   ]
  },
  {
   "cell_type": "code",
   "execution_count": 34,
   "id": "2ccc0ec3",
   "metadata": {},
   "outputs": [],
   "source": [
    "#This step will label encode all the categorical columns and store them in different columns with the same name + '_idx', \n",
    "#so category will become category_idx \n",
    "cat_cols = ['workclass', 'education', 'marital_status','occupation','relationship','race','gender','native_country']\n",
    "\n",
    "for c in cat_cols: \n",
    "    indexer = StringIndexer(inputCol=c, outputCol=c+'_idx') \n",
    "    dfs = indexer.fit(dfs).transform(dfs) \n",
    "    \n",
    "final_df = dfs.drop(*cat_cols) "
   ]
  },
  {
   "cell_type": "code",
   "execution_count": 35,
   "id": "ec34f01a",
   "metadata": {},
   "outputs": [
    {
     "name": "stdout",
     "output_type": "stream",
     "text": [
      "+---+------+-------------+------------+------------+--------------+------+-----------------+---------------------------+------+----------+-------------+-------------+------------------+--------------+----------------+--------+----------+------------------+\n",
      "|age|fnlwgt|education_num|capital_gain|capital_loss|hours_per_week|salary|fnlwgt_percentage|diffrence_capital_gain_loos|profit|workaholic|workclass_idx|education_idx|marital_status_idx|occupation_idx|relationship_idx|race_idx|gender_idx|native_country_idx|\n",
      "+---+------+-------------+------------+------------+--------------+------+-----------------+---------------------------+------+----------+-------------+-------------+------------------+--------------+----------------+--------+----------+------------------+\n",
      "| 39| 77516|           13|        2174|           0|            40| 50000|              0.0|                       2174|     1|         0|          4.0|          2.0|               1.0|           5.0|             1.0|     0.0|       0.0|               3.0|\n",
      "| 50| 83311|           13|           0|           0|            13| 50000|              0.0|                          0|     0|         0|          1.0|          2.0|               0.0|           1.0|             0.0|     0.0|       0.0|               3.0|\n",
      "| 38|215646|            9|           0|           0|            40| 50000|              0.0|                          0|     0|         0|          0.0|          0.0|               2.0|           8.0|             1.0|     0.0|       0.0|               3.0|\n",
      "| 53|234721|            7|           0|           0|            40| 50000|              0.0|                          0|     0|         0|          0.0|          3.0|               0.0|           8.0|             0.0|     1.0|       0.0|               3.0|\n",
      "| 28|338409|           13|           0|           0|            40| 50000|              0.0|                          0|     0|         0|          0.0|          2.0|               0.0|           2.0|             4.0|     1.0|       1.0|               2.0|\n",
      "| 37|284582|           14|           0|           0|            40| 50000|              0.0|                          0|     0|         0|          0.0|          5.0|               0.0|           1.0|             4.0|     0.0|       1.0|               3.0|\n",
      "| 49|160187|            5|           0|           0|            16| 50000|              0.0|                          0|     0|         0|          0.0|         12.0|               6.0|           3.0|             1.0|     1.0|       1.0|               2.0|\n",
      "| 52|209642|            9|           0|           0|            45| 50001|              0.0|                          0|     0|         0|          1.0|          0.0|               0.0|           1.0|             0.0|     0.0|       0.0|               3.0|\n",
      "| 31| 45781|           14|       14084|           0|            50| 50001|              0.0|                      14084|     1|         0|          0.0|          5.0|               1.0|           2.0|             1.0|     0.0|       1.0|               3.0|\n",
      "| 42|159449|           13|        5178|           0|            40| 50001|              0.0|                       5178|     1|         0|          0.0|          2.0|               0.0|           1.0|             0.0|     0.0|       0.0|               3.0|\n",
      "| 37|280464|           10|           0|           0|            80| 50001|              0.0|                          0|     0|         1|          0.0|          1.0|               0.0|           1.0|             0.0|     1.0|       0.0|               3.0|\n",
      "| 30|141297|           13|           0|           0|            40| 50001|              0.0|                          0|     0|         0|          4.0|          2.0|               0.0|           2.0|             0.0|     3.0|       0.0|               0.0|\n",
      "| 23|122272|           13|           0|           0|            30| 50000|              0.0|                          0|     0|         0|          0.0|          2.0|               1.0|           5.0|             2.0|     0.0|       1.0|               3.0|\n",
      "| 32|205019|           12|           0|           0|            50| 50000|              0.0|                          0|     0|         0|          0.0|          7.0|               1.0|           4.0|             1.0|     1.0|       0.0|               3.0|\n",
      "| 40|121772|           11|           0|           0|            40| 50001|              0.0|                          0|     0|         0|          0.0|          4.0|               0.0|           0.0|             0.0|     3.0|       0.0|               7.0|\n",
      "| 34|245487|            4|           0|           0|            45| 50000|              0.0|                          0|     0|         0|          0.0|          8.0|               0.0|           9.0|             0.0|     2.0|       0.0|               3.0|\n",
      "| 25|176756|            9|           0|           0|            35| 50000|              0.0|                          0|     0|         0|          1.0|          0.0|               1.0|          11.0|             2.0|     0.0|       0.0|               3.0|\n",
      "| 32|186824|            9|           0|           0|            40| 50000|              0.0|                          0|     0|         0|          0.0|          0.0|               1.0|           6.0|             3.0|     0.0|       0.0|               3.0|\n",
      "| 38| 28887|            7|           0|           0|            50| 50000|              0.0|                          0|     0|         0|          0.0|          3.0|               0.0|           4.0|             0.0|     0.0|       0.0|               3.0|\n",
      "| 43|292175|           14|           0|           0|            45| 50001|              0.0|                          0|     0|         0|          1.0|          5.0|               2.0|           1.0|             3.0|     0.0|       1.0|               3.0|\n",
      "+---+------+-------------+------------+------------+--------------+------+-----------------+---------------------------+------+----------+-------------+-------------+------------------+--------------+----------------+--------+----------+------------------+\n",
      "only showing top 20 rows\n",
      "\n"
     ]
    }
   ],
   "source": [
    "final_df.show()"
   ]
  },
  {
   "cell_type": "code",
   "execution_count": 36,
   "id": "e1ac5f01",
   "metadata": {},
   "outputs": [],
   "source": [
    "# dfs=dfs.where(dfs.native_country!='South')\n",
    "final_df = final_df.withColumn(\"fnlwgt_percentage\", dfs[\"fnlwgt_percentage\"].cast('int'))\n",
    "final_df = final_df.withColumn(\"workclass_idx\", dfs[\"workclass_idx\"].cast('int'))\n",
    "final_df = final_df.withColumn(\"education_idx\", dfs[\"education_idx\"].cast('int'))\n",
    "final_df = final_df.withColumn(\"marital_status_idx\", dfs[\"marital_status_idx\"].cast('int'))\n",
    "final_df = final_df.withColumn(\"occupation_idx\", dfs[\"occupation_idx\"].cast('int'))\n",
    "final_df = final_df.withColumn(\"relationship_idx\", dfs[\"relationship_idx\"].cast('int'))\n",
    "\n",
    "final_df = final_df.withColumn(\"race_idx\", dfs[\"race_idx\"].cast('int'))\n",
    "final_df = final_df.withColumn(\"gender_idx\", dfs[\"gender_idx\"].cast('int'))\n",
    "final_df = final_df.withColumn(\"native_country_idx\", dfs[\"native_country_idx\"].cast('int'))\n"
   ]
  },
  {
   "cell_type": "markdown",
   "id": "812ff44b",
   "metadata": {},
   "source": [
    "## Classification model"
   ]
  },
  {
   "cell_type": "code",
   "execution_count": 69,
   "id": "39199c16",
   "metadata": {},
   "outputs": [],
   "source": [
    "cols = final_df.columns # Extract the column names from the dataframe\n",
    "cols.remove('salary') #remove salary because it is our target in clasification \n",
    "\n",
    "#vector assembler will take all the columns and convert them into one column called features\n",
    "assembler = VectorAssembler(inputCols=cols, outputCol='features')\n",
    "final_df = assembler.transform(final_df)"
   ]
  },
  {
   "cell_type": "code",
   "execution_count": 76,
   "id": "1b273328",
   "metadata": {},
   "outputs": [
    {
     "name": "stdout",
     "output_type": "stream",
     "text": [
      "+---+------+-------------+------------+------------+--------------+------+-----------------+---------------------------+------+----------+-------------+-------------+------------------+--------------+----------------+--------+----------+------------------+--------------------------------------------------------------------------------------+\n",
      "|age|fnlwgt|education_num|capital_gain|capital_loss|hours_per_week|salary|fnlwgt_percentage|diffrence_capital_gain_loos|profit|workaholic|workclass_idx|education_idx|marital_status_idx|occupation_idx|relationship_idx|race_idx|gender_idx|native_country_idx|features                                                                              |\n",
      "+---+------+-------------+------------+------------+--------------+------+-----------------+---------------------------+------+----------+-------------+-------------+------------------+--------------+----------------+--------+----------+------------------+--------------------------------------------------------------------------------------+\n",
      "|39 |77516 |13           |2174        |0           |40            |50000 |0                |2174                       |1     |0         |4            |2            |1                 |5             |1               |0       |0         |3                 |[39.0,77516.0,13.0,2174.0,0.0,40.0,0.0,2174.0,1.0,0.0,4.0,2.0,1.0,5.0,1.0,0.0,0.0,3.0]|\n",
      "|50 |83311 |13           |0           |0           |13            |50000 |0                |0                          |0     |0         |1            |2            |0                 |1             |0               |0       |0         |3                 |(18,[0,1,2,5,10,11,13,17],[50.0,83311.0,13.0,13.0,1.0,2.0,1.0,3.0])                   |\n",
      "|38 |215646|9            |0           |0           |40            |50000 |0                |0                          |0     |0         |0            |0            |2                 |8             |1               |0       |0         |3                 |(18,[0,1,2,5,12,13,14,17],[38.0,215646.0,9.0,40.0,2.0,8.0,1.0,3.0])                   |\n",
      "|53 |234721|7            |0           |0           |40            |50000 |0                |0                          |0     |0         |0            |3            |0                 |8             |0               |1       |0         |3                 |(18,[0,1,2,5,11,13,15,17],[53.0,234721.0,7.0,40.0,3.0,8.0,1.0,3.0])                   |\n",
      "|28 |338409|13           |0           |0           |40            |50000 |0                |0                          |0     |0         |0            |2            |0                 |2             |4               |1       |1         |2                 |(18,[0,1,2,5,11,13,14,15,16,17],[28.0,338409.0,13.0,40.0,2.0,2.0,4.0,1.0,1.0,2.0])    |\n",
      "+---+------+-------------+------------+------------+--------------+------+-----------------+---------------------------+------+----------+-------------+-------------+------------------+--------------+----------------+--------+----------+------------------+--------------------------------------------------------------------------------------+\n",
      "only showing top 5 rows\n",
      "\n"
     ]
    }
   ],
   "source": [
    "final_df.show(5,truncate=False)"
   ]
  },
  {
   "cell_type": "markdown",
   "id": "cd2be40c",
   "metadata": {},
   "source": [
    "#### Lets Split\n",
    "\n",
    "80% in training set and 20% is testing set."
   ]
  },
  {
   "cell_type": "code",
   "execution_count": 77,
   "id": "b295cc4c",
   "metadata": {},
   "outputs": [],
   "source": [
    "# We will now create a new dataframe only consisting of the features column and the label column\n",
    "df_data = final_df.select(col('features'), col('salary').alias('label'))\n",
    "\n",
    "#simple data splitting\n",
    "df_train, df_test = df_data.randomSplit([0.7, 0.3])"
   ]
  },
  {
   "cell_type": "markdown",
   "id": "fb0a5f72",
   "metadata": {},
   "source": [
    "### Model Building\n",
    "Our data is now ready for some model building"
   ]
  },
  {
   "cell_type": "code",
   "execution_count": 78,
   "id": "bd92aca1",
   "metadata": {},
   "outputs": [
    {
     "ename": "IllegalArgumentException",
     "evalue": "requirement failed: Classifier inferred 50002 from label values in column DecisionTreeClassifier_e6022f70b9d0__labelCol, but this exceeded the max numClasses (100) allowed to be inferred from values.  To avoid this error for labels with > 100 classes, specify numClasses explicitly in the metadata; this can be done by applying StringIndexer to the label column.",
     "output_type": "error",
     "traceback": [
      "\u001b[1;31m---------------------------------------------------------------------------\u001b[0m",
      "\u001b[1;31mIllegalArgumentException\u001b[0m                  Traceback (most recent call last)",
      "Input \u001b[1;32mIn [78]\u001b[0m, in \u001b[0;36m<cell line: 3>\u001b[1;34m()\u001b[0m\n\u001b[0;32m      1\u001b[0m \u001b[38;5;66;03m# Decision Tree\u001b[39;00m\n\u001b[0;32m      2\u001b[0m dt \u001b[38;5;241m=\u001b[39m DecisionTreeClassifier(labelCol\u001b[38;5;241m=\u001b[39m\u001b[38;5;124m\"\u001b[39m\u001b[38;5;124mlabel\u001b[39m\u001b[38;5;124m\"\u001b[39m, featuresCol\u001b[38;5;241m=\u001b[39m\u001b[38;5;124m\"\u001b[39m\u001b[38;5;124mfeatures\u001b[39m\u001b[38;5;124m\"\u001b[39m)\n\u001b[1;32m----> 3\u001b[0m model_dt \u001b[38;5;241m=\u001b[39m \u001b[43mdt\u001b[49m\u001b[38;5;241;43m.\u001b[39;49m\u001b[43mfit\u001b[49m\u001b[43m(\u001b[49m\u001b[43mdf_train\u001b[49m\u001b[43m)\u001b[49m\n",
      "File \u001b[1;32m~\\anaconda3\\lib\\site-packages\\pyspark\\ml\\base.py:205\u001b[0m, in \u001b[0;36mEstimator.fit\u001b[1;34m(self, dataset, params)\u001b[0m\n\u001b[0;32m    203\u001b[0m         \u001b[38;5;28;01mreturn\u001b[39;00m \u001b[38;5;28mself\u001b[39m\u001b[38;5;241m.\u001b[39mcopy(params)\u001b[38;5;241m.\u001b[39m_fit(dataset)\n\u001b[0;32m    204\u001b[0m     \u001b[38;5;28;01melse\u001b[39;00m:\n\u001b[1;32m--> 205\u001b[0m         \u001b[38;5;28;01mreturn\u001b[39;00m \u001b[38;5;28;43mself\u001b[39;49m\u001b[38;5;241;43m.\u001b[39;49m\u001b[43m_fit\u001b[49m\u001b[43m(\u001b[49m\u001b[43mdataset\u001b[49m\u001b[43m)\u001b[49m\n\u001b[0;32m    206\u001b[0m \u001b[38;5;28;01melse\u001b[39;00m:\n\u001b[0;32m    207\u001b[0m     \u001b[38;5;28;01mraise\u001b[39;00m \u001b[38;5;167;01mTypeError\u001b[39;00m(\n\u001b[0;32m    208\u001b[0m         \u001b[38;5;124m\"\u001b[39m\u001b[38;5;124mParams must be either a param map or a list/tuple of param maps, \u001b[39m\u001b[38;5;124m\"\u001b[39m\n\u001b[0;32m    209\u001b[0m         \u001b[38;5;124m\"\u001b[39m\u001b[38;5;124mbut got \u001b[39m\u001b[38;5;132;01m%s\u001b[39;00m\u001b[38;5;124m.\u001b[39m\u001b[38;5;124m\"\u001b[39m \u001b[38;5;241m%\u001b[39m \u001b[38;5;28mtype\u001b[39m(params)\n\u001b[0;32m    210\u001b[0m     )\n",
      "File \u001b[1;32m~\\anaconda3\\lib\\site-packages\\pyspark\\ml\\wrapper.py:383\u001b[0m, in \u001b[0;36mJavaEstimator._fit\u001b[1;34m(self, dataset)\u001b[0m\n\u001b[0;32m    382\u001b[0m \u001b[38;5;28;01mdef\u001b[39;00m \u001b[38;5;21m_fit\u001b[39m(\u001b[38;5;28mself\u001b[39m, dataset: DataFrame) \u001b[38;5;241m-\u001b[39m\u001b[38;5;241m>\u001b[39m JM:\n\u001b[1;32m--> 383\u001b[0m     java_model \u001b[38;5;241m=\u001b[39m \u001b[38;5;28;43mself\u001b[39;49m\u001b[38;5;241;43m.\u001b[39;49m\u001b[43m_fit_java\u001b[49m\u001b[43m(\u001b[49m\u001b[43mdataset\u001b[49m\u001b[43m)\u001b[49m\n\u001b[0;32m    384\u001b[0m     model \u001b[38;5;241m=\u001b[39m \u001b[38;5;28mself\u001b[39m\u001b[38;5;241m.\u001b[39m_create_model(java_model)\n\u001b[0;32m    385\u001b[0m     \u001b[38;5;28;01mreturn\u001b[39;00m \u001b[38;5;28mself\u001b[39m\u001b[38;5;241m.\u001b[39m_copyValues(model)\n",
      "File \u001b[1;32m~\\anaconda3\\lib\\site-packages\\pyspark\\ml\\wrapper.py:380\u001b[0m, in \u001b[0;36mJavaEstimator._fit_java\u001b[1;34m(self, dataset)\u001b[0m\n\u001b[0;32m    377\u001b[0m \u001b[38;5;28;01massert\u001b[39;00m \u001b[38;5;28mself\u001b[39m\u001b[38;5;241m.\u001b[39m_java_obj \u001b[38;5;129;01mis\u001b[39;00m \u001b[38;5;129;01mnot\u001b[39;00m \u001b[38;5;28;01mNone\u001b[39;00m\n\u001b[0;32m    379\u001b[0m \u001b[38;5;28mself\u001b[39m\u001b[38;5;241m.\u001b[39m_transfer_params_to_java()\n\u001b[1;32m--> 380\u001b[0m \u001b[38;5;28;01mreturn\u001b[39;00m \u001b[38;5;28;43mself\u001b[39;49m\u001b[38;5;241;43m.\u001b[39;49m\u001b[43m_java_obj\u001b[49m\u001b[38;5;241;43m.\u001b[39;49m\u001b[43mfit\u001b[49m\u001b[43m(\u001b[49m\u001b[43mdataset\u001b[49m\u001b[38;5;241;43m.\u001b[39;49m\u001b[43m_jdf\u001b[49m\u001b[43m)\u001b[49m\n",
      "File \u001b[1;32m~\\anaconda3\\lib\\site-packages\\py4j\\java_gateway.py:1321\u001b[0m, in \u001b[0;36mJavaMember.__call__\u001b[1;34m(self, *args)\u001b[0m\n\u001b[0;32m   1315\u001b[0m command \u001b[38;5;241m=\u001b[39m proto\u001b[38;5;241m.\u001b[39mCALL_COMMAND_NAME \u001b[38;5;241m+\u001b[39m\\\n\u001b[0;32m   1316\u001b[0m     \u001b[38;5;28mself\u001b[39m\u001b[38;5;241m.\u001b[39mcommand_header \u001b[38;5;241m+\u001b[39m\\\n\u001b[0;32m   1317\u001b[0m     args_command \u001b[38;5;241m+\u001b[39m\\\n\u001b[0;32m   1318\u001b[0m     proto\u001b[38;5;241m.\u001b[39mEND_COMMAND_PART\n\u001b[0;32m   1320\u001b[0m answer \u001b[38;5;241m=\u001b[39m \u001b[38;5;28mself\u001b[39m\u001b[38;5;241m.\u001b[39mgateway_client\u001b[38;5;241m.\u001b[39msend_command(command)\n\u001b[1;32m-> 1321\u001b[0m return_value \u001b[38;5;241m=\u001b[39m \u001b[43mget_return_value\u001b[49m\u001b[43m(\u001b[49m\n\u001b[0;32m   1322\u001b[0m \u001b[43m    \u001b[49m\u001b[43manswer\u001b[49m\u001b[43m,\u001b[49m\u001b[43m \u001b[49m\u001b[38;5;28;43mself\u001b[39;49m\u001b[38;5;241;43m.\u001b[39;49m\u001b[43mgateway_client\u001b[49m\u001b[43m,\u001b[49m\u001b[43m \u001b[49m\u001b[38;5;28;43mself\u001b[39;49m\u001b[38;5;241;43m.\u001b[39;49m\u001b[43mtarget_id\u001b[49m\u001b[43m,\u001b[49m\u001b[43m \u001b[49m\u001b[38;5;28;43mself\u001b[39;49m\u001b[38;5;241;43m.\u001b[39;49m\u001b[43mname\u001b[49m\u001b[43m)\u001b[49m\n\u001b[0;32m   1324\u001b[0m \u001b[38;5;28;01mfor\u001b[39;00m temp_arg \u001b[38;5;129;01min\u001b[39;00m temp_args:\n\u001b[0;32m   1325\u001b[0m     temp_arg\u001b[38;5;241m.\u001b[39m_detach()\n",
      "File \u001b[1;32m~\\anaconda3\\lib\\site-packages\\pyspark\\sql\\utils.py:196\u001b[0m, in \u001b[0;36mcapture_sql_exception.<locals>.deco\u001b[1;34m(*a, **kw)\u001b[0m\n\u001b[0;32m    192\u001b[0m converted \u001b[38;5;241m=\u001b[39m convert_exception(e\u001b[38;5;241m.\u001b[39mjava_exception)\n\u001b[0;32m    193\u001b[0m \u001b[38;5;28;01mif\u001b[39;00m \u001b[38;5;129;01mnot\u001b[39;00m \u001b[38;5;28misinstance\u001b[39m(converted, UnknownException):\n\u001b[0;32m    194\u001b[0m     \u001b[38;5;66;03m# Hide where the exception came from that shows a non-Pythonic\u001b[39;00m\n\u001b[0;32m    195\u001b[0m     \u001b[38;5;66;03m# JVM exception message.\u001b[39;00m\n\u001b[1;32m--> 196\u001b[0m     \u001b[38;5;28;01mraise\u001b[39;00m converted \u001b[38;5;28;01mfrom\u001b[39;00m \u001b[38;5;28mNone\u001b[39m\n\u001b[0;32m    197\u001b[0m \u001b[38;5;28;01melse\u001b[39;00m:\n\u001b[0;32m    198\u001b[0m     \u001b[38;5;28;01mraise\u001b[39;00m\n",
      "\u001b[1;31mIllegalArgumentException\u001b[0m: requirement failed: Classifier inferred 50002 from label values in column DecisionTreeClassifier_e6022f70b9d0__labelCol, but this exceeded the max numClasses (100) allowed to be inferred from values.  To avoid this error for labels with > 100 classes, specify numClasses explicitly in the metadata; this can be done by applying StringIndexer to the label column."
     ]
    }
   ],
   "source": [
    "# Decision Tree\n",
    "dt = DecisionTreeClassifier(labelCol=\"label\", featuresCol=\"features\")\n",
    "model_dt = dt.fit(df_train)"
   ]
  },
  {
   "cell_type": "code",
   "execution_count": null,
   "id": "b7c4a781",
   "metadata": {},
   "outputs": [],
   "source": [
    "# Random Forest\n",
    "rf = RandomForestClassifier(labelCol=\"label\", featuresCol=\"features\", numTrees=10)\n",
    "model_rf = rf.fit(df_train)"
   ]
  },
  {
   "cell_type": "code",
   "execution_count": null,
   "id": "e0f7173e",
   "metadata": {},
   "outputs": [],
   "source": [
    "# Logistic Regression\n",
    "lr = LogisticRegression(maxIter=10, regParam=0.3, elasticNetParam=0.8, labelCol=\"label\", featuresCol=\"features\")\n",
    "model_lr = lr.fit(df_train)"
   ]
  },
  {
   "cell_type": "code",
   "execution_count": null,
   "id": "8a0afc01",
   "metadata": {},
   "outputs": [],
   "source": [
    "# Gradient Boost\n",
    "gbt = GBTClassifier(labelCol=\"label\", featuresCol=\"features\", maxIter=10)\n",
    "model_gbt = gbt.fit(df_train)"
   ]
  },
  {
   "cell_type": "code",
   "execution_count": 45,
   "id": "6b2cf9d1",
   "metadata": {},
   "outputs": [],
   "source": [
    "# Lets make the predictions on the testing set\n",
    "pred_dt = model_dt.transform(df_test)\n",
    "pred_rf = model_rf.transform(df_test)\n",
    "pred_lr = model_lr.transform(df_test)\n",
    "pred_gbt = model_gbt.transform(df_test)\n",
    "pred_svc = model_svc.transform(df_test)"
   ]
  },
  {
   "cell_type": "markdown",
   "id": "2045117e",
   "metadata": {},
   "source": [
    "### Evaluation"
   ]
  },
  {
   "cell_type": "code",
   "execution_count": 46,
   "id": "5c2a8c85",
   "metadata": {},
   "outputs": [
    {
     "name": "stderr",
     "output_type": "stream",
     "text": [
      "                                                                                \r"
     ]
    }
   ],
   "source": [
    "# Accuracy Metric\n",
    "evaluator_A = MulticlassClassificationEvaluator(labelCol=\"label\", predictionCol=\"prediction\", metricName=\"accuracy\")\n",
    "\n",
    "# F1 Metric\n",
    "evaluator_F = MulticlassClassificationEvaluator(labelCol=\"label\", predictionCol=\"prediction\", metricName=\"f1\")\n",
    "\n",
    "# Weighted Precision\n",
    "evaluator_P = MulticlassClassificationEvaluator(labelCol=\"label\", predictionCol=\"prediction\", metricName=\"weightedPrecision\")\n",
    "\n",
    "# Weighted Recall\n",
    "evaluator_R = MulticlassClassificationEvaluator(labelCol=\"label\", predictionCol=\"prediction\", metricName=\"weightedRecall\")\n",
    "\n",
    "# Our models\n",
    "models = [pred_dt, pred_rf, pred_lr, pred_gbt]\n",
    "\n",
    "# Empty lists that will store the scores for each metric for each model.\n",
    "accuracy = []\n",
    "F1 = []\n",
    "precision = []\n",
    "recall = []\n",
    "\n",
    "# loop to populate the empty lists with scores of models for each metric.\n",
    "for model in models:\n",
    "    accuracy.append(evaluator_A.evaluate(model))\n",
    "    F1.append(evaluator_F.evaluate(model))\n",
    "    precision.append(evaluator_P.evaluate(model))\n",
    "    recall.append(evaluator_R.evaluate(model))"
   ]
  },
  {
   "cell_type": "code",
   "execution_count": 47,
   "id": "f55e042b",
   "metadata": {},
   "outputs": [],
   "source": [
    "# We will convert all lists created above into a dataframe for easy viewing.\n",
    "df_ev = pd.DataFrame(list(zip(accuracy, F1, precision, recall)), \n",
    "                     columns = ['Accuracy', 'F1-Score', 'Weighted Precision', 'Weighted Recall'],\n",
    "                     index = ['Decision Tree', 'Random Forest', 'Logistic Regression', 'Gradient Boost'])"
   ]
  },
  {
   "cell_type": "code",
   "execution_count": 48,
   "id": "05255017",
   "metadata": {},
   "outputs": [
    {
     "data": {
      "text/html": [
       "<div>\n",
       "<style scoped>\n",
       "    .dataframe tbody tr th:only-of-type {\n",
       "        vertical-align: middle;\n",
       "    }\n",
       "\n",
       "    .dataframe tbody tr th {\n",
       "        vertical-align: top;\n",
       "    }\n",
       "\n",
       "    .dataframe thead th {\n",
       "        text-align: right;\n",
       "    }\n",
       "</style>\n",
       "<table border=\"1\" class=\"dataframe\">\n",
       "  <thead>\n",
       "    <tr style=\"text-align: right;\">\n",
       "      <th></th>\n",
       "      <th>Accuracy</th>\n",
       "      <th>F1-Score</th>\n",
       "      <th>Weighted Precision</th>\n",
       "      <th>Weighted Recall</th>\n",
       "    </tr>\n",
       "  </thead>\n",
       "  <tbody>\n",
       "    <tr>\n",
       "      <th>Decision Tree</th>\n",
       "      <td>0.512797</td>\n",
       "      <td>0.489749</td>\n",
       "      <td>0.510630</td>\n",
       "      <td>0.512797</td>\n",
       "    </tr>\n",
       "    <tr>\n",
       "      <th>Random Forest</th>\n",
       "      <td>0.509923</td>\n",
       "      <td>0.509031</td>\n",
       "      <td>0.511078</td>\n",
       "      <td>0.509923</td>\n",
       "    </tr>\n",
       "    <tr>\n",
       "      <th>Logistic Regression</th>\n",
       "      <td>0.509821</td>\n",
       "      <td>0.344302</td>\n",
       "      <td>0.259917</td>\n",
       "      <td>0.509821</td>\n",
       "    </tr>\n",
       "    <tr>\n",
       "      <th>Gradient Boost</th>\n",
       "      <td>0.512452</td>\n",
       "      <td>0.512355</td>\n",
       "      <td>0.513006</td>\n",
       "      <td>0.512452</td>\n",
       "    </tr>\n",
       "  </tbody>\n",
       "</table>\n",
       "</div>"
      ],
      "text/plain": [
       "                     Accuracy  F1-Score  Weighted Precision  Weighted Recall\n",
       "Decision Tree        0.512797  0.489749            0.510630         0.512797\n",
       "Random Forest        0.509923  0.509031            0.511078         0.509923\n",
       "Logistic Regression  0.509821  0.344302            0.259917         0.509821\n",
       "Gradient Boost       0.512452  0.512355            0.513006         0.512452"
      ]
     },
     "execution_count": 48,
     "metadata": {},
     "output_type": "execute_result"
    }
   ],
   "source": [
    "df_ev"
   ]
  },
  {
   "cell_type": "markdown",
   "id": "9a254b35",
   "metadata": {},
   "source": [
    "### Hyperparameter Tuning"
   ]
  },
  {
   "cell_type": "markdown",
   "id": "1a0ae2b2",
   "metadata": {},
   "source": [
    "Lets pick the best model and use grid search and cross validator to get more thorough results."
   ]
  },
  {
   "cell_type": "code",
   "execution_count": 49,
   "id": "9af74add",
   "metadata": {},
   "outputs": [
    {
     "ename": "AttributeError",
     "evalue": "'DecisionTreeClassifier' object has no attribute 'maxIter'",
     "output_type": "error",
     "traceback": [
      "\u001b[0;31m---------------------------------------------------------------------------\u001b[0m",
      "\u001b[0;31mAttributeError\u001b[0m                            Traceback (most recent call last)",
      "Cell \u001b[0;32mIn [49], line 4\u001b[0m\n\u001b[1;32m      1\u001b[0m \u001b[38;5;28;01mfrom\u001b[39;00m \u001b[38;5;21;01mpyspark\u001b[39;00m\u001b[38;5;21;01m.\u001b[39;00m\u001b[38;5;21;01mml\u001b[39;00m\u001b[38;5;21;01m.\u001b[39;00m\u001b[38;5;21;01mtuning\u001b[39;00m \u001b[38;5;28;01mimport\u001b[39;00m CrossValidator, ParamGridBuilder, CrossValidatorModel\n\u001b[1;32m      3\u001b[0m \u001b[38;5;66;03m#initialize our grid -> we are using variation with only one parameter called maxIter (maximum iteration)\u001b[39;00m\n\u001b[0;32m----> 4\u001b[0m grid \u001b[38;5;241m=\u001b[39m ParamGridBuilder()\u001b[38;5;241m.\u001b[39maddGrid(\u001b[43mdt\u001b[49m\u001b[38;5;241;43m.\u001b[39;49m\u001b[43mmaxIter\u001b[49m, [\u001b[38;5;241m5\u001b[39m, \u001b[38;5;241m10\u001b[39m, \u001b[38;5;241m15\u001b[39m, \u001b[38;5;241m20\u001b[39m])\u001b[38;5;241m.\u001b[39mbuild()\n\u001b[1;32m      6\u001b[0m \u001b[38;5;66;03m#CrossValidator will by default have 3 folds. We can explicitly specify that using numFolds = 3\u001b[39;00m\n\u001b[1;32m      7\u001b[0m cv \u001b[38;5;241m=\u001b[39m CrossValidator(estimator\u001b[38;5;241m=\u001b[39mdt, estimatorParamMaps\u001b[38;5;241m=\u001b[39mgrid, evaluator\u001b[38;5;241m=\u001b[39mevaluator_A, parallelism\u001b[38;5;241m=\u001b[39m\u001b[38;5;241m2\u001b[39m)\n",
      "\u001b[0;31mAttributeError\u001b[0m: 'DecisionTreeClassifier' object has no attribute 'maxIter'"
     ]
    }
   ],
   "source": [
    "from pyspark.ml.tuning import CrossValidator, ParamGridBuilder, CrossValidatorModel\n",
    "\n",
    "#initialize our grid\n",
    "grid = ParamGridBuilder().addGrid(dt.maxIter, [5, 10, 15, 20]).build()\n",
    "\n",
    "cv = CrossValidator(estimator=dt, estimatorParamMaps=grid, evaluator=evaluator_A, parallelism=2)\n",
    "\n",
    "cvModel = cv.fit(df_train)"
   ]
  },
  {
   "cell_type": "code",
   "execution_count": null,
   "id": "6d547009",
   "metadata": {},
   "outputs": [],
   "source": [
    "#average metrics on 4 different models \n",
    "cvModel.avgMetrics \n",
    "\n",
    "#we can see here that more number of iterations slowly improved our model performance, however the improvement is minimal"
   ]
  },
  {
   "cell_type": "code",
   "execution_count": null,
   "id": "f55dfa84",
   "metadata": {},
   "outputs": [],
   "source": [
    "#lets try to get the accuracy of our model on the testing set\n",
    "evaluator_A.evaluate(cvModel.transform(df_test))"
   ]
  },
  {
   "cell_type": "markdown",
   "id": "c36806c7",
   "metadata": {},
   "source": [
    "## Regression Model "
   ]
  },
  {
   "cell_type": "code",
   "execution_count": 37,
   "id": "00591132",
   "metadata": {},
   "outputs": [],
   "source": [
    "cols = final_df.columns \n",
    "cols.remove('capital_gain') #remove capital_gain because it is our target in regression \n",
    "\n",
    "#vector assembler will take all the columns and convert them into one column called features\n",
    "assembler = VectorAssembler(inputCols=cols, outputCol='features')\n",
    "assembler_df = assembler.transform(final_df)"
   ]
  },
  {
   "cell_type": "code",
   "execution_count": 38,
   "id": "f05d6ed2",
   "metadata": {},
   "outputs": [],
   "source": [
    "# We will now create a new dataframe only consisting of the features column and the label column \n",
    "df_reg = assembler_df.select(col('features'), col('capital_gain').alias('label'))\n",
    "\n",
    "#simple data splitting\n",
    "df_train, df_test = df_reg.randomSplit([0.7, 0.3])"
   ]
  },
  {
   "cell_type": "markdown",
   "id": "0d4c70d6",
   "metadata": {},
   "source": [
    "### Build the models"
   ]
  },
  {
   "cell_type": "code",
   "execution_count": 39,
   "id": "4f843c38",
   "metadata": {},
   "outputs": [],
   "source": [
    "#Linear Regression\n",
    "lr = LinearRegression(maxIter=10, regParam=0.3, elasticNetParam=0.8)\n",
    "r_lr = lr.fit(df_train)"
   ]
  },
  {
   "cell_type": "code",
   "execution_count": 40,
   "id": "ea783834",
   "metadata": {},
   "outputs": [],
   "source": [
    "#Random Forest Regressor\n",
    "rf = RandomForestRegressor(featuresCol='features', labelCol='label')\n",
    "r_rf = rf.fit(df_train)"
   ]
  },
  {
   "cell_type": "code",
   "execution_count": 41,
   "id": "9de843e7",
   "metadata": {},
   "outputs": [],
   "source": [
    "#Gradient Boosted Tree Regressor\n",
    "gbt = GBTRegressor(featuresCol=\"features\", labelCol='label', maxIter=10)\n",
    "r_gbt = gbt.fit(df_train)"
   ]
  },
  {
   "cell_type": "code",
   "execution_count": 42,
   "id": "ae15fe59",
   "metadata": {},
   "outputs": [],
   "source": [
    "#Decision Tree Regressor\n",
    "dt = DecisionTreeRegressor(featuresCol=\"features\", labelCol='label')\n",
    "r_dt = dt.fit(df_train)"
   ]
  },
  {
   "cell_type": "code",
   "execution_count": 43,
   "id": "5f6c98e2",
   "metadata": {},
   "outputs": [],
   "source": [
    "# Lets make the predictions on the testing set\n",
    "pred_dt = r_dt.transform(df_test)\n",
    "pred_rf = r_rf.transform(df_test)\n",
    "pred_lr = r_lr.transform(df_test)\n",
    "pred_gbt = r_gbt.transform(df_test)"
   ]
  },
  {
   "cell_type": "markdown",
   "id": "a6ed1722",
   "metadata": {},
   "source": [
    "### Evaluate the models"
   ]
  },
  {
   "cell_type": "code",
   "execution_count": 44,
   "id": "2058158f",
   "metadata": {},
   "outputs": [],
   "source": [
    "evaluator = RegressionEvaluator()"
   ]
  },
  {
   "cell_type": "code",
   "execution_count": 45,
   "id": "43d5fdfd",
   "metadata": {},
   "outputs": [],
   "source": [
    "#list our regrassion models\n",
    "models = [pred_rf, pred_gbt, pred_dt, pred_lr]\n",
    "\n",
    "evaluator_R = RegressionEvaluator(predictionCol='prediction', labelCol='label', metricName='r2')\n",
    "\n",
    "evaluator_RMSE = RegressionEvaluator(predictionCol='prediction', labelCol='label', metricName='rmse')\n",
    "\n",
    "evaluator_MAE = RegressionEvaluator(predictionCol='prediction', labelCol='label', metricName='mae')\n",
    "\n",
    "# Empty lists that will store the scores for each metric for each model.\n",
    "R2 = []\n",
    "RMSE = []\n",
    "MAE = []\n",
    "\n",
    "# loop to populate the empty lists with scores of models for each metric.\n",
    "for model in models:\n",
    "    R2.append(evaluator_R.evaluate(model))\n",
    "    RMSE.append(evaluator_RMSE.evaluate(model))\n",
    "    MAE.append(evaluator_MAE.evaluate(model))"
   ]
  },
  {
   "cell_type": "code",
   "execution_count": 46,
   "id": "d1c382fb",
   "metadata": {},
   "outputs": [],
   "source": [
    "# We will convert all lists created above into a dataframe for easy viewing.\n",
    "df_ev_reg = pd.DataFrame(list(zip(R2, RMSE, MAE)), \n",
    "                     columns = ['R-squared', 'Root Mean Squared Error', 'Mean Absolute Error'],\n",
    "                     index = ['Random Forest Regressor', 'Gradient Boosted Trees Regressor', 'Decision Tree Regressor', 'Linear Regression'])"
   ]
  },
  {
   "cell_type": "code",
   "execution_count": 47,
   "id": "708fe8db",
   "metadata": {},
   "outputs": [
    {
     "data": {
      "text/html": [
       "<div>\n",
       "<style scoped>\n",
       "    .dataframe tbody tr th:only-of-type {\n",
       "        vertical-align: middle;\n",
       "    }\n",
       "\n",
       "    .dataframe tbody tr th {\n",
       "        vertical-align: top;\n",
       "    }\n",
       "\n",
       "    .dataframe thead th {\n",
       "        text-align: right;\n",
       "    }\n",
       "</style>\n",
       "<table border=\"1\" class=\"dataframe\">\n",
       "  <thead>\n",
       "    <tr style=\"text-align: right;\">\n",
       "      <th></th>\n",
       "      <th>R-squared</th>\n",
       "      <th>Root Mean Squared Error</th>\n",
       "      <th>Mean Absolute Error</th>\n",
       "    </tr>\n",
       "  </thead>\n",
       "  <tbody>\n",
       "    <tr>\n",
       "      <th>Random Forest Regressor</th>\n",
       "      <td>0.688717</td>\n",
       "      <td>6061.972452</td>\n",
       "      <td>2721.057924</td>\n",
       "    </tr>\n",
       "    <tr>\n",
       "      <th>Gradient Boosted Trees Regressor</th>\n",
       "      <td>0.773540</td>\n",
       "      <td>5170.496612</td>\n",
       "      <td>1148.874226</td>\n",
       "    </tr>\n",
       "    <tr>\n",
       "      <th>Decision Tree Regressor</th>\n",
       "      <td>0.785560</td>\n",
       "      <td>5031.400892</td>\n",
       "      <td>1378.514607</td>\n",
       "    </tr>\n",
       "    <tr>\n",
       "      <th>Linear Regression</th>\n",
       "      <td>1.000000</td>\n",
       "      <td>0.393204</td>\n",
       "      <td>0.242423</td>\n",
       "    </tr>\n",
       "  </tbody>\n",
       "</table>\n",
       "</div>"
      ],
      "text/plain": [
       "                                  R-squared  Root Mean Squared Error  \\\n",
       "Random Forest Regressor            0.688717              6061.972452   \n",
       "Gradient Boosted Trees Regressor   0.773540              5170.496612   \n",
       "Decision Tree Regressor            0.785560              5031.400892   \n",
       "Linear Regression                  1.000000                 0.393204   \n",
       "\n",
       "                                  Mean Absolute Error  \n",
       "Random Forest Regressor                   2721.057924  \n",
       "Gradient Boosted Trees Regressor          1148.874226  \n",
       "Decision Tree Regressor                   1378.514607  \n",
       "Linear Regression                            0.242423  "
      ]
     },
     "execution_count": 47,
     "metadata": {},
     "output_type": "execute_result"
    }
   ],
   "source": [
    "df_ev_reg"
   ]
  },
  {
   "cell_type": "markdown",
   "id": "816b2732",
   "metadata": {},
   "source": [
    "### Hyperparameter Tuning - Best Two Models"
   ]
  },
  {
   "cell_type": "markdown",
   "id": "90b2436b",
   "metadata": {},
   "source": [
    "Choosing Decision Tree and Gradient Boosted Trees instead of Linear Regression because of the overfitting"
   ]
  },
  {
   "cell_type": "code",
   "execution_count": 48,
   "id": "43bb796b",
   "metadata": {},
   "outputs": [],
   "source": [
    "from pyspark.ml.tuning import CrossValidator, ParamGridBuilder, CrossValidatorModel"
   ]
  },
  {
   "cell_type": "markdown",
   "id": "76411223",
   "metadata": {},
   "source": [
    "#### Decision Tree"
   ]
  },
  {
   "cell_type": "code",
   "execution_count": 60,
   "id": "dd787dba",
   "metadata": {},
   "outputs": [],
   "source": [
    "#initialize our grid \n",
    "grid2 = ParamGridBuilder().addGrid(dt.maxDepth, [5, 10, 15, 20 , 25]).build()"
   ]
  },
  {
   "cell_type": "code",
   "execution_count": 61,
   "id": "8d88ed8a",
   "metadata": {},
   "outputs": [],
   "source": [
    "#CrossValidator\n",
    "cv_reg2 = CrossValidator(estimator=dt, estimatorParamMaps=grid2, evaluator=evaluator_R, parallelism=2, numFolds=5)"
   ]
  },
  {
   "cell_type": "code",
   "execution_count": 62,
   "id": "74f22a34",
   "metadata": {},
   "outputs": [],
   "source": [
    "# fit on training set\n",
    "cv_reg2Model = cv_reg2.fit(df_train)"
   ]
  },
  {
   "cell_type": "code",
   "execution_count": 63,
   "id": "fcc74415",
   "metadata": {},
   "outputs": [
    {
     "data": {
      "text/plain": [
       "0.7855603713446851"
      ]
     },
     "execution_count": 63,
     "metadata": {},
     "output_type": "execute_result"
    }
   ],
   "source": [
    "# Accuracy Metric\n",
    "evaluator_R.evaluate(cv_reg2Model.transform(df_test))"
   ]
  },
  {
   "cell_type": "code",
   "execution_count": 64,
   "id": "3b99d680",
   "metadata": {},
   "outputs": [
    {
     "data": {
      "text/plain": [
       "[0.7676971909331833,\n",
       " 0.7515430847124803,\n",
       " 0.6788231268298603,\n",
       " 0.5848873792827355,\n",
       " 0.5476986306856377]"
      ]
     },
     "execution_count": 64,
     "metadata": {},
     "output_type": "execute_result"
    }
   ],
   "source": [
    "#average metrics on 4 different models \n",
    "cv_reg2Model.avgMetrics "
   ]
  },
  {
   "cell_type": "markdown",
   "id": "67e16557",
   "metadata": {},
   "source": [
    "#### Gradient Boosted Trees "
   ]
  },
  {
   "cell_type": "code",
   "execution_count": 51,
   "id": "5cede8f5",
   "metadata": {},
   "outputs": [],
   "source": [
    "#initialize our grid \n",
    "grid = ParamGridBuilder().addGrid(gbt.maxIter, [40, 30, 15, 20 , 25]).build()"
   ]
  },
  {
   "cell_type": "code",
   "execution_count": 52,
   "id": "dc8006fa",
   "metadata": {},
   "outputs": [],
   "source": [
    "#CrossValidator\n",
    "cv_reg = CrossValidator(estimator=gbt, estimatorParamMaps=grid, evaluator=evaluator_R, parallelism=2, numFolds=5)"
   ]
  },
  {
   "cell_type": "code",
   "execution_count": 53,
   "id": "0cd3a7ec",
   "metadata": {},
   "outputs": [],
   "source": [
    "# fit on training set\n",
    "cv_regModel = cv_reg.fit(df_train)"
   ]
  },
  {
   "cell_type": "code",
   "execution_count": 54,
   "id": "04d66a64",
   "metadata": {},
   "outputs": [
    {
     "data": {
      "text/plain": [
       "0.7738580245984696"
      ]
     },
     "execution_count": 54,
     "metadata": {},
     "output_type": "execute_result"
    }
   ],
   "source": [
    "# Accuracy Metric\n",
    "evaluator_R.evaluate(cv_regModel.transform(df_test))"
   ]
  },
  {
   "cell_type": "code",
   "execution_count": 55,
   "id": "d595a017",
   "metadata": {},
   "outputs": [
    {
     "data": {
      "text/plain": [
       "[0.7681499392478811,\n",
       " 0.7687889959484207,\n",
       " 0.7687584917374692,\n",
       " 0.7689195453152784,\n",
       " 0.7688423981078625]"
      ]
     },
     "execution_count": 55,
     "metadata": {},
     "output_type": "execute_result"
    }
   ],
   "source": [
    "#average metrics on 4 different models \n",
    "cv_regModel.avgMetrics "
   ]
  },
  {
   "cell_type": "markdown",
   "id": "1e685bae",
   "metadata": {},
   "source": [
    "### Pipeline - Best Two Models"
   ]
  },
  {
   "cell_type": "code",
   "execution_count": 56,
   "id": "209304e3",
   "metadata": {},
   "outputs": [],
   "source": [
    "from pyspark.ml import Pipeline\n",
    "from pyspark.ml.feature import PCA"
   ]
  },
  {
   "cell_type": "markdown",
   "id": "fc2d38f1",
   "metadata": {},
   "source": [
    "#### Decision Tree"
   ]
  },
  {
   "cell_type": "code",
   "execution_count": 65,
   "id": "50ebc387",
   "metadata": {},
   "outputs": [],
   "source": [
    "# create a pipeline containing PCA and Decision Tree\n",
    "pca = PCA(k=5, inputCol='features', outputCol='pcaFeature')\n",
    "dt_1 = DecisionTreeRegressor(maxDepth=10)\n",
    "pipeline = Pipeline (stages=[pca, dt_1])"
   ]
  },
  {
   "cell_type": "code",
   "execution_count": 66,
   "id": "92c57260",
   "metadata": {},
   "outputs": [],
   "source": [
    "# fit on training set\n",
    "pipeline_model = pipeline.fit(df_train)"
   ]
  },
  {
   "cell_type": "code",
   "execution_count": 67,
   "id": "6c8aaba9",
   "metadata": {},
   "outputs": [
    {
     "data": {
      "text/plain": [
       "0.7699695122500189"
      ]
     },
     "execution_count": 67,
     "metadata": {},
     "output_type": "execute_result"
    }
   ],
   "source": [
    "# Accuracy Metric\n",
    "evaluator_R.evaluate(pipeline_model.transform(df_test))"
   ]
  },
  {
   "cell_type": "markdown",
   "id": "fa67393b",
   "metadata": {},
   "source": [
    "#### Gradient Boosted Trees "
   ]
  },
  {
   "cell_type": "code",
   "execution_count": 57,
   "id": "97085c90",
   "metadata": {},
   "outputs": [],
   "source": [
    "# create a pipeline containing PCA and Gradient Boosted Trees \n",
    "pca1 = PCA(k=5, inputCol='features', outputCol='pcaFeature')\n",
    "GBTR_1 = GBTRegressor(maxIter = 20)\n",
    "pipeline2 = Pipeline (stages=[pca1, GBTR_1])"
   ]
  },
  {
   "cell_type": "code",
   "execution_count": 58,
   "id": "017b8c8b",
   "metadata": {},
   "outputs": [],
   "source": [
    "# fit on training set\n",
    "pipeline_model2 = pipeline2.fit(df_train)"
   ]
  },
  {
   "cell_type": "code",
   "execution_count": 59,
   "id": "14178bf1",
   "metadata": {},
   "outputs": [
    {
     "data": {
      "text/plain": [
       "0.7738580245984696"
      ]
     },
     "execution_count": 59,
     "metadata": {},
     "output_type": "execute_result"
    }
   ],
   "source": [
    "# Accuracy Metric\n",
    "evaluator_R.evaluate(pipeline_model2.transform(df_test))"
   ]
  },
  {
   "cell_type": "markdown",
   "id": "c1535a62",
   "metadata": {},
   "source": [
    "# THANK YOU :)"
   ]
  }
 ],
 "metadata": {
  "kernelspec": {
   "display_name": "Python 3 (ipykernel)",
   "language": "python",
   "name": "python3"
  },
  "language_info": {
   "codemirror_mode": {
    "name": "ipython",
    "version": 3
   },
   "file_extension": ".py",
   "mimetype": "text/x-python",
   "name": "python",
   "nbconvert_exporter": "python",
   "pygments_lexer": "ipython3",
   "version": "3.9.12"
  }
 },
 "nbformat": 4,
 "nbformat_minor": 5
}
